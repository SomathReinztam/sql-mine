{
 "cells": [
  {
   "cell_type": "code",
   "execution_count": 1,
   "id": "5c60ebd1",
   "metadata": {},
   "outputs": [
    {
     "data": {
      "text/plain": [
       "ChatPromptTemplate(input_variables=['dialect', 'top_k'], input_types={}, partial_variables={}, metadata={'lc_hub_owner': 'langchain-ai', 'lc_hub_repo': 'sql-agent-system-prompt', 'lc_hub_commit_hash': '31156d5fe3945188ee172151b086712d22b8c70f8f1c0505f5457594424ed352'}, messages=[SystemMessagePromptTemplate(prompt=PromptTemplate(input_variables=['dialect', 'top_k'], input_types={}, partial_variables={}, template='You are an agent designed to interact with a SQL database.\\nGiven an input question, create a syntactically correct {dialect} query to run, then look at the results of the query and return the answer.\\nUnless the user specifies a specific number of examples they wish to obtain, always limit your query to at most {top_k} results.\\nYou can order the results by a relevant column to return the most interesting examples in the database.\\nNever query for all the columns from a specific table, only ask for the relevant columns given the question.\\nYou have access to tools for interacting with the database.\\nOnly use the below tools. Only use the information returned by the below tools to construct your final answer.\\nYou MUST double check your query before executing it. If you get an error while executing a query, rewrite the query and try again.\\n\\nDO NOT make any DML statements (INSERT, UPDATE, DELETE, DROP etc.) to the database.\\n\\nTo start you should ALWAYS look at the tables in the database to see what you can query.\\nDo NOT skip this step.\\nThen you should query the schema of the most relevant tables.'), additional_kwargs={})])"
      ]
     },
     "execution_count": 1,
     "metadata": {},
     "output_type": "execute_result"
    }
   ],
   "source": [
    "from langchain import hub\n",
    "\n",
    "prompt_template = hub.pull(\"langchain-ai/sql-agent-system-prompt\")\n",
    "prompt_template"
   ]
  },
  {
   "cell_type": "code",
   "execution_count": 2,
   "id": "066e9169",
   "metadata": {},
   "outputs": [
    {
     "data": {
      "text/plain": [
       "SystemMessagePromptTemplate(prompt=PromptTemplate(input_variables=['dialect', 'top_k'], input_types={}, partial_variables={}, template='You are an agent designed to interact with a SQL database.\\nGiven an input question, create a syntactically correct {dialect} query to run, then look at the results of the query and return the answer.\\nUnless the user specifies a specific number of examples they wish to obtain, always limit your query to at most {top_k} results.\\nYou can order the results by a relevant column to return the most interesting examples in the database.\\nNever query for all the columns from a specific table, only ask for the relevant columns given the question.\\nYou have access to tools for interacting with the database.\\nOnly use the below tools. Only use the information returned by the below tools to construct your final answer.\\nYou MUST double check your query before executing it. If you get an error while executing a query, rewrite the query and try again.\\n\\nDO NOT make any DML statements (INSERT, UPDATE, DELETE, DROP etc.) to the database.\\n\\nTo start you should ALWAYS look at the tables in the database to see what you can query.\\nDo NOT skip this step.\\nThen you should query the schema of the most relevant tables.'), additional_kwargs={})"
      ]
     },
     "execution_count": 2,
     "metadata": {},
     "output_type": "execute_result"
    }
   ],
   "source": [
    "prompt_template.messages[0]"
   ]
  },
  {
   "cell_type": "code",
   "execution_count": 3,
   "id": "d067167b",
   "metadata": {},
   "outputs": [
    {
     "data": {
      "text/plain": [
       "PromptTemplate(input_variables=['dialect', 'top_k'], input_types={}, partial_variables={}, template='You are an agent designed to interact with a SQL database.\\nGiven an input question, create a syntactically correct {dialect} query to run, then look at the results of the query and return the answer.\\nUnless the user specifies a specific number of examples they wish to obtain, always limit your query to at most {top_k} results.\\nYou can order the results by a relevant column to return the most interesting examples in the database.\\nNever query for all the columns from a specific table, only ask for the relevant columns given the question.\\nYou have access to tools for interacting with the database.\\nOnly use the below tools. Only use the information returned by the below tools to construct your final answer.\\nYou MUST double check your query before executing it. If you get an error while executing a query, rewrite the query and try again.\\n\\nDO NOT make any DML statements (INSERT, UPDATE, DELETE, DROP etc.) to the database.\\n\\nTo start you should ALWAYS look at the tables in the database to see what you can query.\\nDo NOT skip this step.\\nThen you should query the schema of the most relevant tables.')"
      ]
     },
     "execution_count": 3,
     "metadata": {},
     "output_type": "execute_result"
    }
   ],
   "source": [
    "prompt_template.messages[0].prompt"
   ]
  },
  {
   "cell_type": "code",
   "execution_count": 4,
   "id": "b715665c",
   "metadata": {},
   "outputs": [
    {
     "data": {
      "text/plain": [
       "'You are an agent designed to interact with a SQL database.\\nGiven an input question, create a syntactically correct {dialect} query to run, then look at the results of the query and return the answer.\\nUnless the user specifies a specific number of examples they wish to obtain, always limit your query to at most {top_k} results.\\nYou can order the results by a relevant column to return the most interesting examples in the database.\\nNever query for all the columns from a specific table, only ask for the relevant columns given the question.\\nYou have access to tools for interacting with the database.\\nOnly use the below tools. Only use the information returned by the below tools to construct your final answer.\\nYou MUST double check your query before executing it. If you get an error while executing a query, rewrite the query and try again.\\n\\nDO NOT make any DML statements (INSERT, UPDATE, DELETE, DROP etc.) to the database.\\n\\nTo start you should ALWAYS look at the tables in the database to see what you can query.\\nDo NOT skip this step.\\nThen you should query the schema of the most relevant tables.'"
      ]
     },
     "execution_count": 4,
     "metadata": {},
     "output_type": "execute_result"
    }
   ],
   "source": [
    "prompt_template.messages[0].prompt.template"
   ]
  },
  {
   "cell_type": "code",
   "execution_count": 5,
   "id": "2bcf935b",
   "metadata": {},
   "outputs": [
    {
     "name": "stdout",
     "output_type": "stream",
     "text": [
      "You are an agent designed to interact with a SQL database.\n",
      "Given an input question, create a syntactically correct {dialect} query to run, then look at the results of the query and return the answer.\n",
      "Unless the user specifies a specific number of examples they wish to obtain, always limit your query to at most {top_k} results.\n",
      "You can order the results by a relevant column to return the most interesting examples in the database.\n",
      "Never query for all the columns from a specific table, only ask for the relevant columns given the question.\n",
      "You have access to tools for interacting with the database.\n",
      "Only use the below tools. Only use the information returned by the below tools to construct your final answer.\n",
      "You MUST double check your query before executing it. If you get an error while executing a query, rewrite the query and try again.\n",
      "\n",
      "DO NOT make any DML statements (INSERT, UPDATE, DELETE, DROP etc.) to the database.\n",
      "\n",
      "To start you should ALWAYS look at the tables in the database to see what you can query.\n",
      "Do NOT skip this step.\n",
      "Then you should query the schema of the most relevant tables.\n"
     ]
    }
   ],
   "source": [
    "print(prompt_template.messages[0].prompt.template)"
   ]
  },
  {
   "cell_type": "code",
   "execution_count": 7,
   "id": "87da2fca",
   "metadata": {},
   "outputs": [
    {
     "name": "stdout",
     "output_type": "stream",
     "text": [
      "System: You are an agent designed to interact with a SQL database.\n",
      "Given an input question, create a syntactically correct SQLite query to run, then look at the results of the query and return the answer.\n",
      "Unless the user specifies a specific number of examples they wish to obtain, always limit your query to at most 5 results.\n",
      "You can order the results by a relevant column to return the most interesting examples in the database.\n",
      "Never query for all the columns from a specific table, only ask for the relevant columns given the question.\n",
      "You have access to tools for interacting with the database.\n",
      "Only use the below tools. Only use the information returned by the below tools to construct your final answer.\n",
      "You MUST double check your query before executing it. If you get an error while executing a query, rewrite the query and try again.\n",
      "\n",
      "DO NOT make any DML statements (INSERT, UPDATE, DELETE, DROP etc.) to the database.\n",
      "\n",
      "To start you should ALWAYS look at the tables in the database to see what you can query.\n",
      "Do NOT skip this step.\n",
      "Then you should query the schema of the most relevant tables.\n"
     ]
    }
   ],
   "source": [
    "system_message = prompt_template.format(dialect=\"SQLite\", top_k=5)\n",
    "print(system_message)"
   ]
  },
  {
   "cell_type": "code",
   "execution_count": null,
   "id": "e20b4c15",
   "metadata": {},
   "outputs": [],
   "source": []
  },
  {
   "cell_type": "code",
   "execution_count": 2,
   "id": "36d62168",
   "metadata": {},
   "outputs": [
    {
     "data": {
      "text/plain": [
       "['dialect', 'top_k']"
      ]
     },
     "execution_count": 2,
     "metadata": {},
     "output_type": "execute_result"
    }
   ],
   "source": [
    "prompt_template.input_variables"
   ]
  },
  {
   "cell_type": "code",
   "execution_count": 3,
   "id": "1e29e294",
   "metadata": {},
   "outputs": [
    {
     "name": "stdout",
     "output_type": "stream",
     "text": [
      "System: You are an agent designed to interact with a SQL database.\n",
      "Given an input question, create a syntactically correct SQLite query to run, then look at the results of the query and return the answer.\n",
      "Unless the user specifies a specific number of examples they wish to obtain, always limit your query to at most 5 results.\n",
      "You can order the results by a relevant column to return the most interesting examples in the database.\n",
      "Never query for all the columns from a specific table, only ask for the relevant columns given the question.\n",
      "You have access to tools for interacting with the database.\n",
      "Only use the below tools. Only use the information returned by the below tools to construct your final answer.\n",
      "You MUST double check your query before executing it. If you get an error while executing a query, rewrite the query and try again.\n",
      "\n",
      "DO NOT make any DML statements (INSERT, UPDATE, DELETE, DROP etc.) to the database.\n",
      "\n",
      "To start you should ALWAYS look at the tables in the database to see what you can query.\n",
      "Do NOT skip this step.\n",
      "Then you should query the schema of the most relevant tables.\n"
     ]
    }
   ],
   "source": [
    "prompt = prompt_template.format(dialect=\"SQLite\", top_k=5)\n",
    "print(prompt)"
   ]
  },
  {
   "cell_type": "code",
   "execution_count": null,
   "id": "72435d51",
   "metadata": {},
   "outputs": [],
   "source": []
  },
  {
   "cell_type": "code",
   "execution_count": null,
   "id": "179d6f1b",
   "metadata": {},
   "outputs": [],
   "source": []
  },
  {
   "cell_type": "markdown",
   "id": "dc43fc59",
   "metadata": {},
   "source": [
    "# sqlReAct"
   ]
  },
  {
   "cell_type": "code",
   "execution_count": 1,
   "id": "3b001e0f",
   "metadata": {},
   "outputs": [],
   "source": [
    "from langchain_core.messages import HumanMessage, SystemMessage\n",
    "from langchain import hub\n",
    "from sqlReAct import graph"
   ]
  },
  {
   "cell_type": "code",
   "execution_count": 4,
   "id": "5c1aab12",
   "metadata": {},
   "outputs": [],
   "source": [
    "messages = [HumanMessage(content=\"¿Cuántas tablas hay en la base de datos?\")]\n",
    "initial_state = {\"messages\":messages}"
   ]
  },
  {
   "cell_type": "code",
   "execution_count": 5,
   "id": "0a6cdfbf",
   "metadata": {},
   "outputs": [
    {
     "name": "stdout",
     "output_type": "stream",
     "text": [
      "================================\u001b[1m Human Message \u001b[0m=================================\n",
      "\n",
      "¿Cuántas tablas hay en la base de datos?\n",
      "-------<class 'langchain_core.messages.ai.AIMessage'>\n",
      "==================================\u001b[1m Ai Message \u001b[0m==================================\n",
      "Tool Calls:\n",
      "  sql_db_list_tables (115b63ae-c2f2-46ee-ba34-adaa5d2142c1)\n",
      " Call ID: 115b63ae-c2f2-46ee-ba34-adaa5d2142c1\n",
      "  Args:\n",
      "=================================\u001b[1m Tool Message \u001b[0m=================================\n",
      "Name: sql_db_list_tables\n",
      "\n",
      "categories, customer_customer_demo, customer_demographics, customers, employee_territories, employees, order_details, orders, products, region, shippers, suppliers, territories, us_states\n",
      "-------<class 'langchain_core.messages.ai.AIMessage'>\n",
      "==================================\u001b[1m Ai Message \u001b[0m==================================\n",
      "\n",
      "Hay 14 tablas en la base de datos.\n"
     ]
    }
   ],
   "source": [
    "final_step = None\n",
    "for step in graph.stream(initial_state, stream_mode='values'):\n",
    "    messages = step.get(\"messages\", None)\n",
    "    messages[-1].pretty_print()\n"
   ]
  },
  {
   "cell_type": "code",
   "execution_count": null,
   "id": "794acde5",
   "metadata": {},
   "outputs": [],
   "source": []
  },
  {
   "cell_type": "code",
   "execution_count": null,
   "id": "0849754a",
   "metadata": {},
   "outputs": [],
   "source": []
  },
  {
   "cell_type": "code",
   "execution_count": null,
   "id": "97f5825f",
   "metadata": {},
   "outputs": [],
   "source": [
    "prompt_template = hub.pull(\"langchain-ai/sql-agent-system-prompt\")\n",
    "system_prompt = prompt_template.format(dialect=\"PostgreSQL\", top_k=5)\n",
    "human_prompt = \"From which supplier(s) does Northwinds carry the fewest products?\"\n",
    "messages = [SystemMessage(content=system_prompt), HumanMessage(content=human_prompt)]\n",
    "initial_state = {\"messages\":messages}"
   ]
  },
  {
   "cell_type": "code",
   "execution_count": 7,
   "id": "e1ce43ac",
   "metadata": {},
   "outputs": [],
   "source": [
    "messages = [SystemMessage(content=system_prompt), HumanMessage(content=human_prompt)]"
   ]
  },
  {
   "cell_type": "code",
   "execution_count": 8,
   "id": "52b588af",
   "metadata": {},
   "outputs": [],
   "source": [
    "initial_state = {\"messages\":messages}"
   ]
  },
  {
   "cell_type": "code",
   "execution_count": 10,
   "id": "ca1e028a",
   "metadata": {},
   "outputs": [
    {
     "name": "stdout",
     "output_type": "stream",
     "text": [
      "================================\u001b[1m System Message \u001b[0m================================\n",
      "\n",
      "System: You are an agent designed to interact with a SQL database.\n",
      "Given an input question, create a syntactically correct PostgreSQL query to run, then look at the results of the query and return the answer.\n",
      "Unless the user specifies a specific number of examples they wish to obtain, always limit your query to at most 5 results.\n",
      "You can order the results by a relevant column to return the most interesting examples in the database.\n",
      "Never query for all the columns from a specific table, only ask for the relevant columns given the question.\n",
      "You have access to tools for interacting with the database.\n",
      "Only use the below tools. Only use the information returned by the below tools to construct your final answer.\n",
      "You MUST double check your query before executing it. If you get an error while executing a query, rewrite the query and try again.\n",
      "\n",
      "DO NOT make any DML statements (INSERT, UPDATE, DELETE, DROP etc.) to the database.\n",
      "\n",
      "To start you should ALWAYS look at the tables in the database to see what you can query.\n",
      "Do NOT skip this step.\n",
      "Then you should query the schema of the most relevant tables.\n",
      "================================\u001b[1m Human Message \u001b[0m=================================\n",
      "\n",
      "From which supplier(s) does Northwinds carry the fewest products?\n",
      "-------<class 'langchain_core.messages.ai.AIMessage'>\n",
      "==================================\u001b[1m Ai Message \u001b[0m==================================\n",
      "Tool Calls:\n",
      "  sql_db_list_tables (4d00f3ef-0132-4696-b4cc-99cb97bc80f1)\n",
      " Call ID: 4d00f3ef-0132-4696-b4cc-99cb97bc80f1\n",
      "  Args:\n",
      "=================================\u001b[1m Tool Message \u001b[0m=================================\n",
      "Name: sql_db_list_tables\n",
      "\n",
      "categories, customer_customer_demo, customer_demographics, customers, employee_territories, employees, order_details, orders, products, region, shippers, suppliers, territories, us_states\n",
      "-------<class 'langchain_core.messages.ai.AIMessage'>\n",
      "==================================\u001b[1m Ai Message \u001b[0m==================================\n",
      "\n",
      "Okay, I see the tables available. I should look at the schema for the `suppliers` and `products` tables to understand how they are related.\n",
      "Tool Calls:\n",
      "  sql_db_schema (ca605192-5669-48b0-9e87-b58f17be87ac)\n",
      " Call ID: ca605192-5669-48b0-9e87-b58f17be87ac\n",
      "  Args:\n",
      "    table_names: suppliers, products\n",
      "=================================\u001b[1m Tool Message \u001b[0m=================================\n",
      "Name: sql_db_schema\n",
      "\n",
      "\n",
      "CREATE TABLE products (\n",
      "\tproduct_id SMALLINT NOT NULL, \n",
      "\tproduct_name VARCHAR(40) NOT NULL, \n",
      "\tsupplier_id SMALLINT, \n",
      "\tcategory_id SMALLINT, \n",
      "\tquantity_per_unit VARCHAR(20), \n",
      "\tunit_price REAL, \n",
      "\tunits_in_stock SMALLINT, \n",
      "\tunits_on_order SMALLINT, \n",
      "\treorder_level SMALLINT, \n",
      "\tdiscontinued INTEGER NOT NULL, \n",
      "\tCONSTRAINT pk_products PRIMARY KEY (product_id), \n",
      "\tCONSTRAINT fk_products_categories FOREIGN KEY(category_id) REFERENCES categories (category_id), \n",
      "\tCONSTRAINT fk_products_suppliers FOREIGN KEY(supplier_id) REFERENCES suppliers (supplier_id)\n",
      ")\n",
      "\n",
      "/*\n",
      "3 rows from products table:\n",
      "product_id\tproduct_name\tsupplier_id\tcategory_id\tquantity_per_unit\tunit_price\tunits_in_stock\tunits_on_order\treorder_level\tdiscontinued\n",
      "1\tChai\t8\t1\t10 boxes x 30 bags\t18.0\t39\t0\t10\t1\n",
      "2\tChang\t1\t1\t24 - 12 oz bottles\t19.0\t17\t40\t25\t1\n",
      "3\tAniseed Syrup\t1\t2\t12 - 550 ml bottles\t10.0\t13\t70\t25\t0\n",
      "*/\n",
      "\n",
      "\n",
      "CREATE TABLE suppliers (\n",
      "\tsupplier_id SMALLINT NOT NULL, \n",
      "\tcompany_name VARCHAR(40) NOT NULL, \n",
      "\tcontact_name VARCHAR(30), \n",
      "\tcontact_title VARCHAR(30), \n",
      "\taddress VARCHAR(60), \n",
      "\tcity VARCHAR(15), \n",
      "\tregion VARCHAR(15), \n",
      "\tpostal_code VARCHAR(10), \n",
      "\tcountry VARCHAR(15), \n",
      "\tphone VARCHAR(24), \n",
      "\tfax VARCHAR(24), \n",
      "\thomepage TEXT, \n",
      "\tCONSTRAINT pk_suppliers PRIMARY KEY (supplier_id)\n",
      ")\n",
      "\n",
      "/*\n",
      "3 rows from suppliers table:\n",
      "supplier_id\tcompany_name\tcontact_name\tcontact_title\taddress\tcity\tregion\tpostal_code\tcountry\tphone\tfax\thomepage\n",
      "1\tExotic Liquids\tCharlotte Cooper\tPurchasing Manager\t49 Gilbert St.\tLondon\tNone\tEC1 4SD\tUK\t(171) 555-2222\tNone\tNone\n",
      "2\tNew Orleans Cajun Delights\tShelley Burke\tOrder Administrator\tP.O. Box 78934\tNew Orleans\tLA\t70117\tUSA\t(100) 555-4822\tNone\t#CAJUN.HTM#\n",
      "3\tGrandma Kelly's Homestead\tRegina Murphy\tSales Representative\t707 Oxford Rd.\tAnn Arbor\tMI\t48104\tUSA\t(313) 555-5735\t(313) 555-3349\tNone\n",
      "*/\n",
      "-------<class 'langchain_core.messages.ai.AIMessage'>\n",
      "==================================\u001b[1m Ai Message \u001b[0m==================================\n",
      "Tool Calls:\n",
      "  sql_db_query (2e41e5ac-d2b0-4d78-9345-e86cb2b2233d)\n",
      " Call ID: 2e41e5ac-d2b0-4d78-9345-e86cb2b2233d\n",
      "  Args:\n",
      "    query: SELECT s.company_name, COUNT(p.product_id) AS product_count FROM suppliers s LEFT JOIN products p ON s.supplier_id = p.supplier_id GROUP BY s.company_name ORDER BY product_count ASC LIMIT 5;\n",
      "=================================\u001b[1m Tool Message \u001b[0m=================================\n",
      "Name: sql_db_query\n",
      "\n",
      "[('Nord-Ost-Fisch Handelsgesellschaft mbH', 1), ('Escargots Nouveaux', 1), ('Refrescos Americanas LTDA', 1), ('Gai pâturage', 2), ('New England Seafood Cannery', 2)]\n",
      "-------<class 'langchain_core.messages.ai.AIMessage'>\n",
      "==================================\u001b[1m Ai Message \u001b[0m==================================\n",
      "\n",
      "The suppliers with the fewest products are: Nord-Ost-Fisch Handelsgesellschaft mbH, Escargots Nouveaux, and Refrescos Americanas LTDA, each with 1 product. Gai pâturage and New England Seafood Cannery each have 2 products.\n"
     ]
    }
   ],
   "source": [
    "n = 0\n",
    "for step in graph.stream(initial_state, stream_mode='values'):\n",
    "    messages = step.get(\"messages\", None)\n",
    "    if n == 0:\n",
    "        messages[0].pretty_print()\n",
    "        messages[1].pretty_print()\n",
    "        n += 1\n",
    "    else:\n",
    "        messages[-1].pretty_print()"
   ]
  },
  {
   "cell_type": "code",
   "execution_count": null,
   "id": "c86d4b62",
   "metadata": {},
   "outputs": [],
   "source": []
  },
  {
   "cell_type": "code",
   "execution_count": null,
   "id": "68a87a6d",
   "metadata": {},
   "outputs": [],
   "source": []
  },
  {
   "cell_type": "code",
   "execution_count": 11,
   "id": "b3dd7887",
   "metadata": {},
   "outputs": [],
   "source": [
    "prompt_template = hub.pull(\"langchain-ai/sql-agent-system-prompt\")\n",
    "system_prompt = prompt_template.format(dialect=\"PostgreSQL\", top_k=5)\n",
    "human_prompt = \"Which Northwinds employees (just show their name and employeeid) had over 100 orders\"\n",
    "messages = [SystemMessage(content=system_prompt), HumanMessage(content=human_prompt)]\n",
    "initial_state = {\"messages\":messages}"
   ]
  },
  {
   "cell_type": "code",
   "execution_count": 12,
   "id": "3d5e7352",
   "metadata": {},
   "outputs": [
    {
     "name": "stdout",
     "output_type": "stream",
     "text": [
      "================================\u001b[1m System Message \u001b[0m================================\n",
      "\n",
      "System: You are an agent designed to interact with a SQL database.\n",
      "Given an input question, create a syntactically correct PostgreSQL query to run, then look at the results of the query and return the answer.\n",
      "Unless the user specifies a specific number of examples they wish to obtain, always limit your query to at most 5 results.\n",
      "You can order the results by a relevant column to return the most interesting examples in the database.\n",
      "Never query for all the columns from a specific table, only ask for the relevant columns given the question.\n",
      "You have access to tools for interacting with the database.\n",
      "Only use the below tools. Only use the information returned by the below tools to construct your final answer.\n",
      "You MUST double check your query before executing it. If you get an error while executing a query, rewrite the query and try again.\n",
      "\n",
      "DO NOT make any DML statements (INSERT, UPDATE, DELETE, DROP etc.) to the database.\n",
      "\n",
      "To start you should ALWAYS look at the tables in the database to see what you can query.\n",
      "Do NOT skip this step.\n",
      "Then you should query the schema of the most relevant tables.\n",
      "================================\u001b[1m Human Message \u001b[0m=================================\n",
      "\n",
      "Which Northwinds employees (just show their name and employeeid) had over 100 orders\n",
      "-------<class 'langchain_core.messages.ai.AIMessage'>\n",
      "==================================\u001b[1m Ai Message \u001b[0m==================================\n",
      "\n",
      "Okay, let's start by listing the tables in the database to understand the available data.\n",
      "Tool Calls:\n",
      "  sql_db_list_tables (a1d55e36-bee5-4fc5-944e-ff715ad5b494)\n",
      " Call ID: a1d55e36-bee5-4fc5-944e-ff715ad5b494\n",
      "  Args:\n",
      "=================================\u001b[1m Tool Message \u001b[0m=================================\n",
      "Name: sql_db_list_tables\n",
      "\n",
      "categories, customer_customer_demo, customer_demographics, customers, employee_territories, employees, order_details, orders, products, region, shippers, suppliers, territories, us_states\n",
      "-------<class 'langchain_core.messages.ai.AIMessage'>\n",
      "==================================\u001b[1m Ai Message \u001b[0m==================================\n",
      "Tool Calls:\n",
      "  sql_db_schema (017b3cd7-270d-40d7-8f78-e5cb93b0e458)\n",
      " Call ID: 017b3cd7-270d-40d7-8f78-e5cb93b0e458\n",
      "  Args:\n",
      "    table_names: employees, orders\n",
      "=================================\u001b[1m Tool Message \u001b[0m=================================\n",
      "Name: sql_db_schema\n",
      "\n",
      "\n",
      "CREATE TABLE employees (\n",
      "\temployee_id SMALLINT NOT NULL, \n",
      "\tlast_name VARCHAR(20) NOT NULL, \n",
      "\tfirst_name VARCHAR(10) NOT NULL, \n",
      "\ttitle VARCHAR(30), \n",
      "\ttitle_of_courtesy VARCHAR(25), \n",
      "\tbirth_date DATE, \n",
      "\thire_date DATE, \n",
      "\taddress VARCHAR(60), \n",
      "\tcity VARCHAR(15), \n",
      "\tregion VARCHAR(15), \n",
      "\tpostal_code VARCHAR(10), \n",
      "\tcountry VARCHAR(15), \n",
      "\thome_phone VARCHAR(24), \n",
      "\textension VARCHAR(4), \n",
      "\tphoto BYTEA, \n",
      "\tnotes TEXT, \n",
      "\treports_to SMALLINT, \n",
      "\tphoto_path VARCHAR(255), \n",
      "\tCONSTRAINT pk_employees PRIMARY KEY (employee_id), \n",
      "\tCONSTRAINT fk_employees_employees FOREIGN KEY(reports_to) REFERENCES employees (employee_id)\n",
      ")\n",
      "\n",
      "/*\n",
      "3 rows from employees table:\n",
      "employee_id\tlast_name\tfirst_name\ttitle\ttitle_of_courtesy\tbirth_date\thire_date\taddress\tcity\tregion\tpostal_code\tcountry\thome_phone\textension\tphoto\tnotes\treports_to\tphoto_path\n",
      "1\tDavolio\tNancy\tSales Representative\tMs.\t1948-12-08\t1992-05-01\t507 - 20th Ave. E.\\nApt. 2A\tSeattle\tWA\t98122\tUSA\t(206) 555-9857\t5467\tb''\tEducation includes a BA in psychology from Colorado State University in 1970.  She also completed Th\t2\thttp://accweb/emmployees/davolio.bmp\n",
      "2\tFuller\tAndrew\tVice President, Sales\tDr.\t1952-02-19\t1992-08-14\t908 W. Capital Way\tTacoma\tWA\t98401\tUSA\t(206) 555-9482\t3457\tb''\tAndrew received his BTS commercial in 1974 and a Ph.D. in international marketing from the Universit\tNone\thttp://accweb/emmployees/fuller.bmp\n",
      "3\tLeverling\tJanet\tSales Representative\tMs.\t1963-08-30\t1992-04-01\t722 Moss Bay Blvd.\tKirkland\tWA\t98033\tUSA\t(206) 555-3412\t3355\tb''\tJanet has a BS degree in chemistry from Boston College (1984).  She has also completed a certificate\t2\thttp://accweb/emmployees/leverling.bmp\n",
      "*/\n",
      "\n",
      "\n",
      "CREATE TABLE orders (\n",
      "\torder_id SMALLINT NOT NULL, \n",
      "\tcustomer_id VARCHAR(5), \n",
      "\temployee_id SMALLINT, \n",
      "\torder_date DATE, \n",
      "\trequired_date DATE, \n",
      "\tshipped_date DATE, \n",
      "\tship_via SMALLINT, \n",
      "\tfreight REAL, \n",
      "\tship_name VARCHAR(40), \n",
      "\tship_address VARCHAR(60), \n",
      "\tship_city VARCHAR(15), \n",
      "\tship_region VARCHAR(15), \n",
      "\tship_postal_code VARCHAR(10), \n",
      "\tship_country VARCHAR(15), \n",
      "\tCONSTRAINT pk_orders PRIMARY KEY (order_id), \n",
      "\tCONSTRAINT fk_orders_customers FOREIGN KEY(customer_id) REFERENCES customers (customer_id), \n",
      "\tCONSTRAINT fk_orders_employees FOREIGN KEY(employee_id) REFERENCES employees (employee_id), \n",
      "\tCONSTRAINT fk_orders_shippers FOREIGN KEY(ship_via) REFERENCES shippers (shipper_id)\n",
      ")\n",
      "\n",
      "/*\n",
      "3 rows from orders table:\n",
      "order_id\tcustomer_id\temployee_id\torder_date\trequired_date\tshipped_date\tship_via\tfreight\tship_name\tship_address\tship_city\tship_region\tship_postal_code\tship_country\n",
      "10248\tVINET\t5\t1996-07-04\t1996-08-01\t1996-07-16\t3\t32.38\tVins et alcools Chevalier\t59 rue de l'Abbaye\tReims\tNone\t51100\tFrance\n",
      "10249\tTOMSP\t6\t1996-07-05\t1996-08-16\t1996-07-10\t1\t11.61\tToms Spezialitäten\tLuisenstr. 48\tMünster\tNone\t44087\tGermany\n",
      "10250\tHANAR\t4\t1996-07-08\t1996-08-05\t1996-07-12\t2\t65.83\tHanari Carnes\tRua do Paço, 67\tRio de Janeiro\tRJ\t05454-876\tBrazil\n",
      "*/\n",
      "-------<class 'langchain_core.messages.ai.AIMessage'>\n",
      "==================================\u001b[1m Ai Message \u001b[0m==================================\n",
      "Tool Calls:\n",
      "  sql_db_query (5d2bf720-10eb-4004-a10d-f8bdcd55f890)\n",
      " Call ID: 5d2bf720-10eb-4004-a10d-f8bdcd55f890\n",
      "  Args:\n",
      "    query: SELECT e.employee_id, e.first_name, e.last_name FROM Employees e JOIN Orders o ON e.employee_id = o.employee_id GROUP BY e.employee_id, e.first_name, e.last_name HAVING COUNT(o.order_id) > 100 LIMIT 5\n",
      "=================================\u001b[1m Tool Message \u001b[0m=================================\n",
      "Name: sql_db_query\n",
      "\n",
      "[(8, 'Laura', 'Callahan'), (1, 'Nancy', 'Davolio'), (4, 'Margaret', 'Peacock'), (3, 'Janet', 'Leverling')]\n",
      "-------<class 'langchain_core.messages.ai.AIMessage'>\n",
      "==================================\u001b[1m Ai Message \u001b[0m==================================\n",
      "\n",
      "The following employees had over 100 orders: Laura Callahan, Nancy Davolio, Margaret Peacock, and Janet Leverling. Their employee IDs are 8, 1, 4, and 3 respectively.\n"
     ]
    }
   ],
   "source": [
    "n = 0\n",
    "for step in graph.stream(initial_state, stream_mode='values'):\n",
    "    messages = step.get(\"messages\", None)\n",
    "    if n == 0:\n",
    "        messages[0].pretty_print()\n",
    "        messages[1].pretty_print()\n",
    "        n += 1\n",
    "    else:\n",
    "        messages[-1].pretty_print()"
   ]
  },
  {
   "cell_type": "code",
   "execution_count": null,
   "id": "915635de",
   "metadata": {},
   "outputs": [],
   "source": []
  },
  {
   "cell_type": "code",
   "execution_count": null,
   "id": "71a5c2e6",
   "metadata": {},
   "outputs": [],
   "source": []
  },
  {
   "cell_type": "markdown",
   "id": "971d261c",
   "metadata": {},
   "source": [
    "# sqlReAct2 (gpt-oss:20b)"
   ]
  },
  {
   "cell_type": "code",
   "execution_count": 1,
   "id": "6b83d847",
   "metadata": {},
   "outputs": [],
   "source": [
    "from langchain_core.messages import HumanMessage, SystemMessage\n",
    "from langchain import hub\n",
    "from sqlReAct2 import graph"
   ]
  },
  {
   "cell_type": "code",
   "execution_count": 2,
   "id": "a3f01743",
   "metadata": {},
   "outputs": [],
   "source": [
    "messages = [HumanMessage(content=\"¿Cuántas tablas hay en la base de datos?\")]\n",
    "initial_state = {\"messages\":messages}"
   ]
  },
  {
   "cell_type": "code",
   "execution_count": 4,
   "id": "0a88b0a6",
   "metadata": {},
   "outputs": [
    {
     "name": "stdout",
     "output_type": "stream",
     "text": [
      "================================\u001b[1m Human Message \u001b[0m=================================\n",
      "\n",
      "¿Cuántas tablas hay en la base de datos?\n",
      "==================================\u001b[1m Ai Message \u001b[0m==================================\n",
      "Tool Calls:\n",
      "  sql_db_list_tables (20fc7114-202b-48e6-9dad-3c1869c5d1f4)\n",
      " Call ID: 20fc7114-202b-48e6-9dad-3c1869c5d1f4\n",
      "  Args:\n",
      "    tool_input:\n",
      "=================================\u001b[1m Tool Message \u001b[0m=================================\n",
      "Name: sql_db_list_tables\n",
      "\n",
      "categories, customer_customer_demo, customer_demographics, customers, employee_territories, employees, order_details, orders, products, region, shippers, suppliers, territories, us_states\n",
      "==================================\u001b[1m Ai Message \u001b[0m==================================\n",
      "\n",
      "En total hay **14 tablas** en la base de datos.\n"
     ]
    }
   ],
   "source": [
    "n = 0\n",
    "for step in graph.stream(initial_state, stream_mode='values'):\n",
    "    messages = step.get(\"messages\", None)\n",
    "    if n == 0:\n",
    "        messages[0].pretty_print()\n",
    "        #messages[1].pretty_print()\n",
    "        n += 1\n",
    "    else:\n",
    "        messages[-1].pretty_print()"
   ]
  },
  {
   "cell_type": "code",
   "execution_count": null,
   "id": "d86e4f3b",
   "metadata": {},
   "outputs": [],
   "source": []
  },
  {
   "cell_type": "code",
   "execution_count": null,
   "id": "3e7b9c20",
   "metadata": {},
   "outputs": [],
   "source": []
  },
  {
   "cell_type": "code",
   "execution_count": 5,
   "id": "e1f64f13",
   "metadata": {},
   "outputs": [],
   "source": [
    "prompt_template = hub.pull(\"langchain-ai/sql-agent-system-prompt\")\n",
    "system_prompt = prompt_template.format(dialect=\"PostgreSQL\", top_k=5)\n",
    "human_prompt = \"From which supplier(s) does Northwinds carry the fewest products?\"\n",
    "messages = [SystemMessage(content=system_prompt), HumanMessage(content=human_prompt)]\n",
    "initial_state = {\"messages\":messages}"
   ]
  },
  {
   "cell_type": "code",
   "execution_count": 6,
   "id": "2a99c07e",
   "metadata": {},
   "outputs": [
    {
     "name": "stdout",
     "output_type": "stream",
     "text": [
      "================================\u001b[1m System Message \u001b[0m================================\n",
      "\n",
      "System: You are an agent designed to interact with a SQL database.\n",
      "Given an input question, create a syntactically correct PostgreSQL query to run, then look at the results of the query and return the answer.\n",
      "Unless the user specifies a specific number of examples they wish to obtain, always limit your query to at most 5 results.\n",
      "You can order the results by a relevant column to return the most interesting examples in the database.\n",
      "Never query for all the columns from a specific table, only ask for the relevant columns given the question.\n",
      "You have access to tools for interacting with the database.\n",
      "Only use the below tools. Only use the information returned by the below tools to construct your final answer.\n",
      "You MUST double check your query before executing it. If you get an error while executing a query, rewrite the query and try again.\n",
      "\n",
      "DO NOT make any DML statements (INSERT, UPDATE, DELETE, DROP etc.) to the database.\n",
      "\n",
      "To start you should ALWAYS look at the tables in the database to see what you can query.\n",
      "Do NOT skip this step.\n",
      "Then you should query the schema of the most relevant tables.\n",
      "================================\u001b[1m Human Message \u001b[0m=================================\n",
      "\n",
      "From which supplier(s) does Northwinds carry the fewest products?\n",
      "==================================\u001b[1m Ai Message \u001b[0m==================================\n",
      "Tool Calls:\n",
      "  sql_db_list_tables (5aa64967-8c35-476f-9102-4b30d2ef4b80)\n",
      " Call ID: 5aa64967-8c35-476f-9102-4b30d2ef4b80\n",
      "  Args:\n",
      "    tool_input:\n",
      "=================================\u001b[1m Tool Message \u001b[0m=================================\n",
      "Name: sql_db_list_tables\n",
      "\n",
      "categories, customer_customer_demo, customer_demographics, customers, employee_territories, employees, order_details, orders, products, region, shippers, suppliers, territories, us_states\n",
      "==================================\u001b[1m Ai Message \u001b[0m==================================\n",
      "Tool Calls:\n",
      "  sql_db_schema (0d48ce90-3739-4408-9661-e73511ed492c)\n",
      " Call ID: 0d48ce90-3739-4408-9661-e73511ed492c\n",
      "  Args:\n",
      "    table_names: products,suppliers\n",
      "=================================\u001b[1m Tool Message \u001b[0m=================================\n",
      "Name: sql_db_schema\n",
      "\n",
      "\n",
      "CREATE TABLE products (\n",
      "\tproduct_id SMALLINT NOT NULL, \n",
      "\tproduct_name VARCHAR(40) NOT NULL, \n",
      "\tsupplier_id SMALLINT, \n",
      "\tcategory_id SMALLINT, \n",
      "\tquantity_per_unit VARCHAR(20), \n",
      "\tunit_price REAL, \n",
      "\tunits_in_stock SMALLINT, \n",
      "\tunits_on_order SMALLINT, \n",
      "\treorder_level SMALLINT, \n",
      "\tdiscontinued INTEGER NOT NULL, \n",
      "\tCONSTRAINT pk_products PRIMARY KEY (product_id), \n",
      "\tCONSTRAINT fk_products_categories FOREIGN KEY(category_id) REFERENCES categories (category_id), \n",
      "\tCONSTRAINT fk_products_suppliers FOREIGN KEY(supplier_id) REFERENCES suppliers (supplier_id)\n",
      ")\n",
      "\n",
      "/*\n",
      "3 rows from products table:\n",
      "product_id\tproduct_name\tsupplier_id\tcategory_id\tquantity_per_unit\tunit_price\tunits_in_stock\tunits_on_order\treorder_level\tdiscontinued\n",
      "1\tChai\t8\t1\t10 boxes x 30 bags\t18.0\t39\t0\t10\t1\n",
      "2\tChang\t1\t1\t24 - 12 oz bottles\t19.0\t17\t40\t25\t1\n",
      "3\tAniseed Syrup\t1\t2\t12 - 550 ml bottles\t10.0\t13\t70\t25\t0\n",
      "*/\n",
      "\n",
      "\n",
      "CREATE TABLE suppliers (\n",
      "\tsupplier_id SMALLINT NOT NULL, \n",
      "\tcompany_name VARCHAR(40) NOT NULL, \n",
      "\tcontact_name VARCHAR(30), \n",
      "\tcontact_title VARCHAR(30), \n",
      "\taddress VARCHAR(60), \n",
      "\tcity VARCHAR(15), \n",
      "\tregion VARCHAR(15), \n",
      "\tpostal_code VARCHAR(10), \n",
      "\tcountry VARCHAR(15), \n",
      "\tphone VARCHAR(24), \n",
      "\tfax VARCHAR(24), \n",
      "\thomepage TEXT, \n",
      "\tCONSTRAINT pk_suppliers PRIMARY KEY (supplier_id)\n",
      ")\n",
      "\n",
      "/*\n",
      "3 rows from suppliers table:\n",
      "supplier_id\tcompany_name\tcontact_name\tcontact_title\taddress\tcity\tregion\tpostal_code\tcountry\tphone\tfax\thomepage\n",
      "1\tExotic Liquids\tCharlotte Cooper\tPurchasing Manager\t49 Gilbert St.\tLondon\tNone\tEC1 4SD\tUK\t(171) 555-2222\tNone\tNone\n",
      "2\tNew Orleans Cajun Delights\tShelley Burke\tOrder Administrator\tP.O. Box 78934\tNew Orleans\tLA\t70117\tUSA\t(100) 555-4822\tNone\t#CAJUN.HTM#\n",
      "3\tGrandma Kelly's Homestead\tRegina Murphy\tSales Representative\t707 Oxford Rd.\tAnn Arbor\tMI\t48104\tUSA\t(313) 555-5735\t(313) 555-3349\tNone\n",
      "*/\n",
      "==================================\u001b[1m Ai Message \u001b[0m==================================\n",
      "Tool Calls:\n",
      "  sql_db_query_checker (0a295af4-c78b-4dd1-8a98-82b26022ddd0)\n",
      " Call ID: 0a295af4-c78b-4dd1-8a98-82b26022ddd0\n",
      "  Args:\n",
      "    query: SELECT s.supplier_id, s.company_name, COUNT(p.product_id) AS product_count FROM suppliers s LEFT JOIN products p ON s.supplier_id = p.supplier_id GROUP BY s.supplier_id, s.company_name ORDER BY product_count ASC LIMIT 5;\n",
      "=================================\u001b[1m Tool Message \u001b[0m=================================\n",
      "Name: sql_db_query_checker\n",
      "\n",
      "SELECT s.supplier_id, s.company_name, COUNT(p.product_id) AS product_count\n",
      "FROM suppliers s\n",
      "LEFT JOIN products p ON s.supplier_id = p.supplier_id\n",
      "GROUP BY s.supplier_id, s.company_name\n",
      "ORDER BY product_count ASC\n",
      "LIMIT 5;\n",
      "==================================\u001b[1m Ai Message \u001b[0m==================================\n",
      "Tool Calls:\n",
      "  sql_db_query (8eb2d321-c86c-4f58-bb3b-d6a86865f656)\n",
      " Call ID: 8eb2d321-c86c-4f58-bb3b-d6a86865f656\n",
      "  Args:\n",
      "    query: SELECT s.supplier_id, s.company_name, COUNT(p.product_id) AS product_count FROM suppliers s LEFT JOIN products p ON s.supplier_id = p.supplier_id GROUP BY s.supplier_id, s.company_name ORDER BY product_count ASC LIMIT 5;\n",
      "=================================\u001b[1m Tool Message \u001b[0m=================================\n",
      "Name: sql_db_query\n",
      "\n",
      "[(27, 'Escargots Nouveaux', 1), (10, 'Refrescos Americanas LTDA', 1), (13, 'Nord-Ost-Fisch Handelsgesellschaft mbH', 1), (29, \"Forêts d'érables\", 2), (9, 'PB Knäckebröd AB', 2)]\n",
      "==================================\u001b[1m Ai Message \u001b[0m==================================\n",
      "\n",
      "North Wind carries the fewest products from three suppliers:\n",
      "\n",
      "| Supplier ID | Company name                                          | Products carried |\n",
      "|-------------|--------------------------------------------------------|------------------|\n",
      "| 27          | Escargots Nouveaux                                    | 1                |\n",
      "| 10          | Refrescos Americanas LTDA                              | 1                |\n",
      "| 13          | Nord‑Ost‑Fisch Handelsgesellschaft mbH                 | 1                |\n",
      "\n",
      "These are the suppliers with the minimal number (one) of products in the North Wind catalog.\n"
     ]
    }
   ],
   "source": [
    "n = 0\n",
    "for step in graph.stream(initial_state, stream_mode='values'):\n",
    "    messages = step.get(\"messages\", None)\n",
    "    if n == 0:\n",
    "        messages[0].pretty_print()\n",
    "        messages[1].pretty_print()\n",
    "        n += 1\n",
    "    else:\n",
    "        messages[-1].pretty_print()"
   ]
  },
  {
   "cell_type": "code",
   "execution_count": null,
   "id": "382d5d4d",
   "metadata": {},
   "outputs": [],
   "source": []
  },
  {
   "cell_type": "code",
   "execution_count": null,
   "id": "53522895",
   "metadata": {},
   "outputs": [],
   "source": []
  },
  {
   "cell_type": "code",
   "execution_count": 7,
   "id": "1f7d78fd",
   "metadata": {},
   "outputs": [],
   "source": [
    "prompt_template = hub.pull(\"langchain-ai/sql-agent-system-prompt\")\n",
    "system_prompt = prompt_template.format(dialect=\"PostgreSQL\", top_k=5)\n",
    "human_prompt = \"Which Northwinds employees (just show their name and employeeid) had over 100 orders\"\n",
    "messages = [SystemMessage(content=system_prompt), HumanMessage(content=human_prompt)]\n",
    "initial_state = {\"messages\":messages}"
   ]
  },
  {
   "cell_type": "code",
   "execution_count": 8,
   "id": "7e929ed8",
   "metadata": {},
   "outputs": [
    {
     "name": "stdout",
     "output_type": "stream",
     "text": [
      "================================\u001b[1m System Message \u001b[0m================================\n",
      "\n",
      "System: You are an agent designed to interact with a SQL database.\n",
      "Given an input question, create a syntactically correct PostgreSQL query to run, then look at the results of the query and return the answer.\n",
      "Unless the user specifies a specific number of examples they wish to obtain, always limit your query to at most 5 results.\n",
      "You can order the results by a relevant column to return the most interesting examples in the database.\n",
      "Never query for all the columns from a specific table, only ask for the relevant columns given the question.\n",
      "You have access to tools for interacting with the database.\n",
      "Only use the below tools. Only use the information returned by the below tools to construct your final answer.\n",
      "You MUST double check your query before executing it. If you get an error while executing a query, rewrite the query and try again.\n",
      "\n",
      "DO NOT make any DML statements (INSERT, UPDATE, DELETE, DROP etc.) to the database.\n",
      "\n",
      "To start you should ALWAYS look at the tables in the database to see what you can query.\n",
      "Do NOT skip this step.\n",
      "Then you should query the schema of the most relevant tables.\n",
      "================================\u001b[1m Human Message \u001b[0m=================================\n",
      "\n",
      "Which Northwinds employees (just show their name and employeeid) had over 100 orders\n",
      "==================================\u001b[1m Ai Message \u001b[0m==================================\n",
      "Tool Calls:\n",
      "  sql_db_list_tables (27248b5b-1a84-4f60-9f49-742dce83c5d4)\n",
      " Call ID: 27248b5b-1a84-4f60-9f49-742dce83c5d4\n",
      "  Args:\n",
      "    tool_input:\n",
      "=================================\u001b[1m Tool Message \u001b[0m=================================\n",
      "Name: sql_db_list_tables\n",
      "\n",
      "categories, customer_customer_demo, customer_demographics, customers, employee_territories, employees, order_details, orders, products, region, shippers, suppliers, territories, us_states\n",
      "==================================\u001b[1m Ai Message \u001b[0m==================================\n",
      "Tool Calls:\n",
      "  sql_db_schema (17c61189-e912-429e-a8c9-a5be6063165d)\n",
      " Call ID: 17c61189-e912-429e-a8c9-a5be6063165d\n",
      "  Args:\n",
      "    table_names: employees, orders\n",
      "=================================\u001b[1m Tool Message \u001b[0m=================================\n",
      "Name: sql_db_schema\n",
      "\n",
      "\n",
      "CREATE TABLE employees (\n",
      "\temployee_id SMALLINT NOT NULL, \n",
      "\tlast_name VARCHAR(20) NOT NULL, \n",
      "\tfirst_name VARCHAR(10) NOT NULL, \n",
      "\ttitle VARCHAR(30), \n",
      "\ttitle_of_courtesy VARCHAR(25), \n",
      "\tbirth_date DATE, \n",
      "\thire_date DATE, \n",
      "\taddress VARCHAR(60), \n",
      "\tcity VARCHAR(15), \n",
      "\tregion VARCHAR(15), \n",
      "\tpostal_code VARCHAR(10), \n",
      "\tcountry VARCHAR(15), \n",
      "\thome_phone VARCHAR(24), \n",
      "\textension VARCHAR(4), \n",
      "\tphoto BYTEA, \n",
      "\tnotes TEXT, \n",
      "\treports_to SMALLINT, \n",
      "\tphoto_path VARCHAR(255), \n",
      "\tCONSTRAINT pk_employees PRIMARY KEY (employee_id), \n",
      "\tCONSTRAINT fk_employees_employees FOREIGN KEY(reports_to) REFERENCES employees (employee_id)\n",
      ")\n",
      "\n",
      "/*\n",
      "3 rows from employees table:\n",
      "employee_id\tlast_name\tfirst_name\ttitle\ttitle_of_courtesy\tbirth_date\thire_date\taddress\tcity\tregion\tpostal_code\tcountry\thome_phone\textension\tphoto\tnotes\treports_to\tphoto_path\n",
      "1\tDavolio\tNancy\tSales Representative\tMs.\t1948-12-08\t1992-05-01\t507 - 20th Ave. E.\\nApt. 2A\tSeattle\tWA\t98122\tUSA\t(206) 555-9857\t5467\tb''\tEducation includes a BA in psychology from Colorado State University in 1970.  She also completed Th\t2\thttp://accweb/emmployees/davolio.bmp\n",
      "2\tFuller\tAndrew\tVice President, Sales\tDr.\t1952-02-19\t1992-08-14\t908 W. Capital Way\tTacoma\tWA\t98401\tUSA\t(206) 555-9482\t3457\tb''\tAndrew received his BTS commercial in 1974 and a Ph.D. in international marketing from the Universit\tNone\thttp://accweb/emmployees/fuller.bmp\n",
      "3\tLeverling\tJanet\tSales Representative\tMs.\t1963-08-30\t1992-04-01\t722 Moss Bay Blvd.\tKirkland\tWA\t98033\tUSA\t(206) 555-3412\t3355\tb''\tJanet has a BS degree in chemistry from Boston College (1984).  She has also completed a certificate\t2\thttp://accweb/emmployees/leverling.bmp\n",
      "*/\n",
      "\n",
      "\n",
      "CREATE TABLE orders (\n",
      "\torder_id SMALLINT NOT NULL, \n",
      "\tcustomer_id VARCHAR(5), \n",
      "\temployee_id SMALLINT, \n",
      "\torder_date DATE, \n",
      "\trequired_date DATE, \n",
      "\tshipped_date DATE, \n",
      "\tship_via SMALLINT, \n",
      "\tfreight REAL, \n",
      "\tship_name VARCHAR(40), \n",
      "\tship_address VARCHAR(60), \n",
      "\tship_city VARCHAR(15), \n",
      "\tship_region VARCHAR(15), \n",
      "\tship_postal_code VARCHAR(10), \n",
      "\tship_country VARCHAR(15), \n",
      "\tCONSTRAINT pk_orders PRIMARY KEY (order_id), \n",
      "\tCONSTRAINT fk_orders_customers FOREIGN KEY(customer_id) REFERENCES customers (customer_id), \n",
      "\tCONSTRAINT fk_orders_employees FOREIGN KEY(employee_id) REFERENCES employees (employee_id), \n",
      "\tCONSTRAINT fk_orders_shippers FOREIGN KEY(ship_via) REFERENCES shippers (shipper_id)\n",
      ")\n",
      "\n",
      "/*\n",
      "3 rows from orders table:\n",
      "order_id\tcustomer_id\temployee_id\torder_date\trequired_date\tshipped_date\tship_via\tfreight\tship_name\tship_address\tship_city\tship_region\tship_postal_code\tship_country\n",
      "10248\tVINET\t5\t1996-07-04\t1996-08-01\t1996-07-16\t3\t32.38\tVins et alcools Chevalier\t59 rue de l'Abbaye\tReims\tNone\t51100\tFrance\n",
      "10249\tTOMSP\t6\t1996-07-05\t1996-08-16\t1996-07-10\t1\t11.61\tToms Spezialitäten\tLuisenstr. 48\tMünster\tNone\t44087\tGermany\n",
      "10250\tHANAR\t4\t1996-07-08\t1996-08-05\t1996-07-12\t2\t65.83\tHanari Carnes\tRua do Paço, 67\tRio de Janeiro\tRJ\t05454-876\tBrazil\n",
      "*/\n",
      "==================================\u001b[1m Ai Message \u001b[0m==================================\n",
      "Tool Calls:\n",
      "  sql_db_query_checker (eaff223d-e7f3-453e-ad47-6bb0842a92e5)\n",
      " Call ID: eaff223d-e7f3-453e-ad47-6bb0842a92e5\n",
      "  Args:\n",
      "    query: SELECT e.employee_id, e.last_name || ', ' || e.first_name AS name, COUNT(o.order_id) AS orders\n",
      "FROM employees e\n",
      "LEFT JOIN orders o ON e.employee_id = o.employee_id\n",
      "GROUP BY e.employee_id, e.last_name, e.first_name\n",
      "HAVING COUNT(o.order_id) > 100\n",
      "ORDER BY orders DESC\n",
      "LIMIT 5;\n",
      "=================================\u001b[1m Tool Message \u001b[0m=================================\n",
      "Name: sql_db_query_checker\n",
      "\n",
      "SELECT e.employee_id, e.last_name || ', ' || e.first_name AS name, COUNT(o.order_id) AS orders\n",
      "FROM employees e\n",
      "LEFT JOIN orders o ON e.employee_id = o.employee_id\n",
      "GROUP BY e.employee_id, e.last_name, e.first_name\n",
      "HAVING COUNT(o.order_id) > 100\n",
      "ORDER BY orders DESC\n",
      "LIMIT 5;\n",
      "==================================\u001b[1m Ai Message \u001b[0m==================================\n",
      "Tool Calls:\n",
      "  sql_db_query (ef3efab8-4403-4034-9c9a-e7917817cad4)\n",
      " Call ID: ef3efab8-4403-4034-9c9a-e7917817cad4\n",
      "  Args:\n",
      "    query: SELECT e.employee_id, e.last_name || ', ' || e.first_name AS name, COUNT(o.order_id) AS orders\n",
      "FROM employees e\n",
      "LEFT JOIN orders o ON e.employee_id = o.employee_id\n",
      "GROUP BY e.employee_id, e.last_name, e.first_name\n",
      "HAVING COUNT(o.order_id) > 100\n",
      "ORDER BY orders DESC\n",
      "LIMIT 5;\n",
      "=================================\u001b[1m Tool Message \u001b[0m=================================\n",
      "Name: sql_db_query\n",
      "\n",
      "[(4, 'Peacock, Margaret', 156), (3, 'Leverling, Janet', 127), (1, 'Davolio, Nancy', 123), (8, 'Callahan, Laura', 104)]\n",
      "==================================\u001b[1m Ai Message \u001b[0m==================================\n",
      "\n",
      "Here are the Northwind employees who have processed more than 100 orders:\n",
      "\n",
      "| employeeid | name                      |\n",
      "|------------|---------------------------|\n",
      "| 4          | Peacock, Margaret         |\n",
      "| 3          | Leverling, Janet           |\n",
      "| 1          | Davolio, Nancy             |\n",
      "| 8          | Callahan, Laura            |\n"
     ]
    }
   ],
   "source": [
    "n = 0\n",
    "for step in graph.stream(initial_state, stream_mode='values'):\n",
    "    messages = step.get(\"messages\", None)\n",
    "    if n == 0:\n",
    "        messages[0].pretty_print()\n",
    "        messages[1].pretty_print()\n",
    "        n += 1\n",
    "    else:\n",
    "        messages[-1].pretty_print()"
   ]
  },
  {
   "cell_type": "code",
   "execution_count": null,
   "id": "76ccdd85",
   "metadata": {},
   "outputs": [],
   "source": []
  },
  {
   "cell_type": "code",
   "execution_count": null,
   "id": "2e98993b",
   "metadata": {},
   "outputs": [],
   "source": []
  },
  {
   "cell_type": "markdown",
   "id": "f94a55aa",
   "metadata": {},
   "source": [
    "# sqlReAct2 (gemma3:27b) FAIL NO TOOLS"
   ]
  },
  {
   "cell_type": "code",
   "execution_count": 1,
   "id": "c24e6be8",
   "metadata": {},
   "outputs": [],
   "source": [
    "from langchain_core.messages import HumanMessage, SystemMessage\n",
    "from langchain import hub\n",
    "from sqlReAct2 import graph"
   ]
  },
  {
   "cell_type": "code",
   "execution_count": 2,
   "id": "c01f5cb2",
   "metadata": {},
   "outputs": [],
   "source": [
    "messages = [HumanMessage(content=\"¿Cuántas tablas hay en la base de datos?\")]\n",
    "initial_state = {\"messages\":messages}"
   ]
  },
  {
   "cell_type": "code",
   "execution_count": 3,
   "id": "15539e46",
   "metadata": {},
   "outputs": [
    {
     "name": "stdout",
     "output_type": "stream",
     "text": [
      "================================\u001b[1m Human Message \u001b[0m=================================\n",
      "\n",
      "¿Cuántas tablas hay en la base de datos?\n"
     ]
    },
    {
     "ename": "ResponseError",
     "evalue": "registry.ollama.ai/library/gemma3:27b does not support tools (status code: 400)",
     "output_type": "error",
     "traceback": [
      "\u001b[31m---------------------------------------------------------------------------\u001b[39m",
      "\u001b[31mResponseError\u001b[39m                             Traceback (most recent call last)",
      "\u001b[36mCell\u001b[39m\u001b[36m \u001b[39m\u001b[32mIn[3]\u001b[39m\u001b[32m, line 2\u001b[39m\n\u001b[32m      1\u001b[39m n = \u001b[32m0\u001b[39m\n\u001b[32m----> \u001b[39m\u001b[32m2\u001b[39m \u001b[38;5;28;43;01mfor\u001b[39;49;00m\u001b[43m \u001b[49m\u001b[43mstep\u001b[49m\u001b[43m \u001b[49m\u001b[38;5;129;43;01min\u001b[39;49;00m\u001b[43m \u001b[49m\u001b[43mgraph\u001b[49m\u001b[43m.\u001b[49m\u001b[43mstream\u001b[49m\u001b[43m(\u001b[49m\u001b[43minitial_state\u001b[49m\u001b[43m,\u001b[49m\u001b[43m \u001b[49m\u001b[43mstream_mode\u001b[49m\u001b[43m=\u001b[49m\u001b[33;43m'\u001b[39;49m\u001b[33;43mvalues\u001b[39;49m\u001b[33;43m'\u001b[39;49m\u001b[43m)\u001b[49m\u001b[43m:\u001b[49m\n\u001b[32m      3\u001b[39m \u001b[43m    \u001b[49m\u001b[43mmessages\u001b[49m\u001b[43m \u001b[49m\u001b[43m=\u001b[49m\u001b[43m \u001b[49m\u001b[43mstep\u001b[49m\u001b[43m.\u001b[49m\u001b[43mget\u001b[49m\u001b[43m(\u001b[49m\u001b[33;43m\"\u001b[39;49m\u001b[33;43mmessages\u001b[39;49m\u001b[33;43m\"\u001b[39;49m\u001b[43m,\u001b[49m\u001b[43m \u001b[49m\u001b[38;5;28;43;01mNone\u001b[39;49;00m\u001b[43m)\u001b[49m\n\u001b[32m      4\u001b[39m \u001b[43m    \u001b[49m\u001b[38;5;28;43;01mif\u001b[39;49;00m\u001b[43m \u001b[49m\u001b[43mn\u001b[49m\u001b[43m \u001b[49m\u001b[43m==\u001b[49m\u001b[43m \u001b[49m\u001b[32;43m0\u001b[39;49m\u001b[43m:\u001b[49m\n",
      "\u001b[36mFile \u001b[39m\u001b[32mc:\\Users\\Acer\\Documents\\dev\\mine-sql\\.venv\\Lib\\site-packages\\langgraph\\pregel\\main.py:2674\u001b[39m, in \u001b[36mPregel.stream\u001b[39m\u001b[34m(self, input, config, context, stream_mode, print_mode, output_keys, interrupt_before, interrupt_after, durability, subgraphs, debug, **kwargs)\u001b[39m\n\u001b[32m   2672\u001b[39m \u001b[38;5;28;01mfor\u001b[39;00m task \u001b[38;5;129;01min\u001b[39;00m loop.match_cached_writes():\n\u001b[32m   2673\u001b[39m     loop.output_writes(task.id, task.writes, cached=\u001b[38;5;28;01mTrue\u001b[39;00m)\n\u001b[32m-> \u001b[39m\u001b[32m2674\u001b[39m \u001b[43m\u001b[49m\u001b[38;5;28;43;01mfor\u001b[39;49;00m\u001b[43m \u001b[49m\u001b[43m_\u001b[49m\u001b[43m \u001b[49m\u001b[38;5;129;43;01min\u001b[39;49;00m\u001b[43m \u001b[49m\u001b[43mrunner\u001b[49m\u001b[43m.\u001b[49m\u001b[43mtick\u001b[49m\u001b[43m(\u001b[49m\n\u001b[32m   2675\u001b[39m \u001b[43m    \u001b[49m\u001b[43m[\u001b[49m\u001b[43mt\u001b[49m\u001b[43m \u001b[49m\u001b[38;5;28;43;01mfor\u001b[39;49;00m\u001b[43m \u001b[49m\u001b[43mt\u001b[49m\u001b[43m \u001b[49m\u001b[38;5;129;43;01min\u001b[39;49;00m\u001b[43m \u001b[49m\u001b[43mloop\u001b[49m\u001b[43m.\u001b[49m\u001b[43mtasks\u001b[49m\u001b[43m.\u001b[49m\u001b[43mvalues\u001b[49m\u001b[43m(\u001b[49m\u001b[43m)\u001b[49m\u001b[43m \u001b[49m\u001b[38;5;28;43;01mif\u001b[39;49;00m\u001b[43m \u001b[49m\u001b[38;5;129;43;01mnot\u001b[39;49;00m\u001b[43m \u001b[49m\u001b[43mt\u001b[49m\u001b[43m.\u001b[49m\u001b[43mwrites\u001b[49m\u001b[43m]\u001b[49m\u001b[43m,\u001b[49m\n\u001b[32m   2676\u001b[39m \u001b[43m    \u001b[49m\u001b[43mtimeout\u001b[49m\u001b[43m=\u001b[49m\u001b[38;5;28;43mself\u001b[39;49m\u001b[43m.\u001b[49m\u001b[43mstep_timeout\u001b[49m\u001b[43m,\u001b[49m\n\u001b[32m   2677\u001b[39m \u001b[43m    \u001b[49m\u001b[43mget_waiter\u001b[49m\u001b[43m=\u001b[49m\u001b[43mget_waiter\u001b[49m\u001b[43m,\u001b[49m\n\u001b[32m   2678\u001b[39m \u001b[43m    \u001b[49m\u001b[43mschedule_task\u001b[49m\u001b[43m=\u001b[49m\u001b[43mloop\u001b[49m\u001b[43m.\u001b[49m\u001b[43maccept_push\u001b[49m\u001b[43m,\u001b[49m\n\u001b[32m   2679\u001b[39m \u001b[43m\u001b[49m\u001b[43m)\u001b[49m\u001b[43m:\u001b[49m\n\u001b[32m   2680\u001b[39m \u001b[43m    \u001b[49m\u001b[38;5;66;43;03m# emit output\u001b[39;49;00m\n\u001b[32m   2681\u001b[39m \u001b[43m    \u001b[49m\u001b[38;5;28;43;01myield from\u001b[39;49;00m\u001b[43m \u001b[49m\u001b[43m_output\u001b[49m\u001b[43m(\u001b[49m\n\u001b[32m   2682\u001b[39m \u001b[43m        \u001b[49m\u001b[43mstream_mode\u001b[49m\u001b[43m,\u001b[49m\u001b[43m \u001b[49m\u001b[43mprint_mode\u001b[49m\u001b[43m,\u001b[49m\u001b[43m \u001b[49m\u001b[43msubgraphs\u001b[49m\u001b[43m,\u001b[49m\u001b[43m \u001b[49m\u001b[43mstream\u001b[49m\u001b[43m.\u001b[49m\u001b[43mget\u001b[49m\u001b[43m,\u001b[49m\u001b[43m \u001b[49m\u001b[43mqueue\u001b[49m\u001b[43m.\u001b[49m\u001b[43mEmpty\u001b[49m\n\u001b[32m   2683\u001b[39m \u001b[43m    \u001b[49m\u001b[43m)\u001b[49m\n\u001b[32m   2684\u001b[39m loop.after_tick()\n",
      "\u001b[36mFile \u001b[39m\u001b[32mc:\\Users\\Acer\\Documents\\dev\\mine-sql\\.venv\\Lib\\site-packages\\langgraph\\pregel\\_runner.py:162\u001b[39m, in \u001b[36mPregelRunner.tick\u001b[39m\u001b[34m(self, tasks, reraise, timeout, retry_policy, get_waiter, schedule_task)\u001b[39m\n\u001b[32m    160\u001b[39m t = tasks[\u001b[32m0\u001b[39m]\n\u001b[32m    161\u001b[39m \u001b[38;5;28;01mtry\u001b[39;00m:\n\u001b[32m--> \u001b[39m\u001b[32m162\u001b[39m     \u001b[43mrun_with_retry\u001b[49m\u001b[43m(\u001b[49m\n\u001b[32m    163\u001b[39m \u001b[43m        \u001b[49m\u001b[43mt\u001b[49m\u001b[43m,\u001b[49m\n\u001b[32m    164\u001b[39m \u001b[43m        \u001b[49m\u001b[43mretry_policy\u001b[49m\u001b[43m,\u001b[49m\n\u001b[32m    165\u001b[39m \u001b[43m        \u001b[49m\u001b[43mconfigurable\u001b[49m\u001b[43m=\u001b[49m\u001b[43m{\u001b[49m\n\u001b[32m    166\u001b[39m \u001b[43m            \u001b[49m\u001b[43mCONFIG_KEY_CALL\u001b[49m\u001b[43m:\u001b[49m\u001b[43m \u001b[49m\u001b[43mpartial\u001b[49m\u001b[43m(\u001b[49m\n\u001b[32m    167\u001b[39m \u001b[43m                \u001b[49m\u001b[43m_call\u001b[49m\u001b[43m,\u001b[49m\n\u001b[32m    168\u001b[39m \u001b[43m                \u001b[49m\u001b[43mweakref\u001b[49m\u001b[43m.\u001b[49m\u001b[43mref\u001b[49m\u001b[43m(\u001b[49m\u001b[43mt\u001b[49m\u001b[43m)\u001b[49m\u001b[43m,\u001b[49m\n\u001b[32m    169\u001b[39m \u001b[43m                \u001b[49m\u001b[43mretry_policy\u001b[49m\u001b[43m=\u001b[49m\u001b[43mretry_policy\u001b[49m\u001b[43m,\u001b[49m\n\u001b[32m    170\u001b[39m \u001b[43m                \u001b[49m\u001b[43mfutures\u001b[49m\u001b[43m=\u001b[49m\u001b[43mweakref\u001b[49m\u001b[43m.\u001b[49m\u001b[43mref\u001b[49m\u001b[43m(\u001b[49m\u001b[43mfutures\u001b[49m\u001b[43m)\u001b[49m\u001b[43m,\u001b[49m\n\u001b[32m    171\u001b[39m \u001b[43m                \u001b[49m\u001b[43mschedule_task\u001b[49m\u001b[43m=\u001b[49m\u001b[43mschedule_task\u001b[49m\u001b[43m,\u001b[49m\n\u001b[32m    172\u001b[39m \u001b[43m                \u001b[49m\u001b[43msubmit\u001b[49m\u001b[43m=\u001b[49m\u001b[38;5;28;43mself\u001b[39;49m\u001b[43m.\u001b[49m\u001b[43msubmit\u001b[49m\u001b[43m,\u001b[49m\n\u001b[32m    173\u001b[39m \u001b[43m            \u001b[49m\u001b[43m)\u001b[49m\u001b[43m,\u001b[49m\n\u001b[32m    174\u001b[39m \u001b[43m        \u001b[49m\u001b[43m}\u001b[49m\u001b[43m,\u001b[49m\n\u001b[32m    175\u001b[39m \u001b[43m    \u001b[49m\u001b[43m)\u001b[49m\n\u001b[32m    176\u001b[39m     \u001b[38;5;28mself\u001b[39m.commit(t, \u001b[38;5;28;01mNone\u001b[39;00m)\n\u001b[32m    177\u001b[39m \u001b[38;5;28;01mexcept\u001b[39;00m \u001b[38;5;167;01mException\u001b[39;00m \u001b[38;5;28;01mas\u001b[39;00m exc:\n",
      "\u001b[36mFile \u001b[39m\u001b[32mc:\\Users\\Acer\\Documents\\dev\\mine-sql\\.venv\\Lib\\site-packages\\langgraph\\pregel\\_retry.py:42\u001b[39m, in \u001b[36mrun_with_retry\u001b[39m\u001b[34m(task, retry_policy, configurable)\u001b[39m\n\u001b[32m     40\u001b[39m     task.writes.clear()\n\u001b[32m     41\u001b[39m     \u001b[38;5;66;03m# run the task\u001b[39;00m\n\u001b[32m---> \u001b[39m\u001b[32m42\u001b[39m     \u001b[38;5;28;01mreturn\u001b[39;00m \u001b[43mtask\u001b[49m\u001b[43m.\u001b[49m\u001b[43mproc\u001b[49m\u001b[43m.\u001b[49m\u001b[43minvoke\u001b[49m\u001b[43m(\u001b[49m\u001b[43mtask\u001b[49m\u001b[43m.\u001b[49m\u001b[43minput\u001b[49m\u001b[43m,\u001b[49m\u001b[43m \u001b[49m\u001b[43mconfig\u001b[49m\u001b[43m)\u001b[49m\n\u001b[32m     43\u001b[39m \u001b[38;5;28;01mexcept\u001b[39;00m ParentCommand \u001b[38;5;28;01mas\u001b[39;00m exc:\n\u001b[32m     44\u001b[39m     ns: \u001b[38;5;28mstr\u001b[39m = config[CONF][CONFIG_KEY_CHECKPOINT_NS]\n",
      "\u001b[36mFile \u001b[39m\u001b[32mc:\\Users\\Acer\\Documents\\dev\\mine-sql\\.venv\\Lib\\site-packages\\langgraph\\_internal\\_runnable.py:657\u001b[39m, in \u001b[36mRunnableSeq.invoke\u001b[39m\u001b[34m(self, input, config, **kwargs)\u001b[39m\n\u001b[32m    655\u001b[39m     \u001b[38;5;66;03m# run in context\u001b[39;00m\n\u001b[32m    656\u001b[39m     \u001b[38;5;28;01mwith\u001b[39;00m set_config_context(config, run) \u001b[38;5;28;01mas\u001b[39;00m context:\n\u001b[32m--> \u001b[39m\u001b[32m657\u001b[39m         \u001b[38;5;28minput\u001b[39m = \u001b[43mcontext\u001b[49m\u001b[43m.\u001b[49m\u001b[43mrun\u001b[49m\u001b[43m(\u001b[49m\u001b[43mstep\u001b[49m\u001b[43m.\u001b[49m\u001b[43minvoke\u001b[49m\u001b[43m,\u001b[49m\u001b[43m \u001b[49m\u001b[38;5;28;43minput\u001b[39;49m\u001b[43m,\u001b[49m\u001b[43m \u001b[49m\u001b[43mconfig\u001b[49m\u001b[43m,\u001b[49m\u001b[43m \u001b[49m\u001b[43m*\u001b[49m\u001b[43m*\u001b[49m\u001b[43mkwargs\u001b[49m\u001b[43m)\u001b[49m\n\u001b[32m    658\u001b[39m \u001b[38;5;28;01melse\u001b[39;00m:\n\u001b[32m    659\u001b[39m     \u001b[38;5;28minput\u001b[39m = step.invoke(\u001b[38;5;28minput\u001b[39m, config)\n",
      "\u001b[36mFile \u001b[39m\u001b[32mc:\\Users\\Acer\\Documents\\dev\\mine-sql\\.venv\\Lib\\site-packages\\langgraph\\_internal\\_runnable.py:401\u001b[39m, in \u001b[36mRunnableCallable.invoke\u001b[39m\u001b[34m(self, input, config, **kwargs)\u001b[39m\n\u001b[32m    399\u001b[39m         run_manager.on_chain_end(ret)\n\u001b[32m    400\u001b[39m \u001b[38;5;28;01melse\u001b[39;00m:\n\u001b[32m--> \u001b[39m\u001b[32m401\u001b[39m     ret = \u001b[38;5;28;43mself\u001b[39;49m\u001b[43m.\u001b[49m\u001b[43mfunc\u001b[49m\u001b[43m(\u001b[49m\u001b[43m*\u001b[49m\u001b[43margs\u001b[49m\u001b[43m,\u001b[49m\u001b[43m \u001b[49m\u001b[43m*\u001b[49m\u001b[43m*\u001b[49m\u001b[43mkwargs\u001b[49m\u001b[43m)\u001b[49m\n\u001b[32m    402\u001b[39m \u001b[38;5;28;01mif\u001b[39;00m \u001b[38;5;28mself\u001b[39m.recurse \u001b[38;5;129;01mand\u001b[39;00m \u001b[38;5;28misinstance\u001b[39m(ret, Runnable):\n\u001b[32m    403\u001b[39m     \u001b[38;5;28;01mreturn\u001b[39;00m ret.invoke(\u001b[38;5;28minput\u001b[39m, config)\n",
      "\u001b[36mFile \u001b[39m\u001b[32mc:\\Users\\Acer\\Documents\\dev\\mine-sql\\sqlReAct2.py:42\u001b[39m, in \u001b[36mReAct_node\u001b[39m\u001b[34m(state)\u001b[39m\n\u001b[32m     40\u001b[39m \u001b[38;5;28;01mdef\u001b[39;00m\u001b[38;5;250m \u001b[39m\u001b[34mReAct_node\u001b[39m(state : State) -> State:\n\u001b[32m     41\u001b[39m     prompt = state[\u001b[33m'\u001b[39m\u001b[33mmessages\u001b[39m\u001b[33m'\u001b[39m]\n\u001b[32m---> \u001b[39m\u001b[32m42\u001b[39m     response = \u001b[43mllm_with_tools\u001b[49m\u001b[43m.\u001b[49m\u001b[43minvoke\u001b[49m\u001b[43m(\u001b[49m\u001b[43mprompt\u001b[49m\u001b[43m)\u001b[49m\n\u001b[32m     43\u001b[39m     \u001b[38;5;66;03m#print(f\"-------{type(response)}\")\u001b[39;00m\n\u001b[32m     44\u001b[39m     \u001b[38;5;28;01mreturn\u001b[39;00m {\u001b[33m\"\u001b[39m\u001b[33mmessages\u001b[39m\u001b[33m\"\u001b[39m:response}\n",
      "\u001b[36mFile \u001b[39m\u001b[32mc:\\Users\\Acer\\Documents\\dev\\mine-sql\\.venv\\Lib\\site-packages\\langchain_core\\runnables\\base.py:5711\u001b[39m, in \u001b[36mRunnableBindingBase.invoke\u001b[39m\u001b[34m(self, input, config, **kwargs)\u001b[39m\n\u001b[32m   5704\u001b[39m \u001b[38;5;129m@override\u001b[39m\n\u001b[32m   5705\u001b[39m \u001b[38;5;28;01mdef\u001b[39;00m\u001b[38;5;250m \u001b[39m\u001b[34minvoke\u001b[39m(\n\u001b[32m   5706\u001b[39m     \u001b[38;5;28mself\u001b[39m,\n\u001b[32m   (...)\u001b[39m\u001b[32m   5709\u001b[39m     **kwargs: Optional[Any],\n\u001b[32m   5710\u001b[39m ) -> Output:\n\u001b[32m-> \u001b[39m\u001b[32m5711\u001b[39m     \u001b[38;5;28;01mreturn\u001b[39;00m \u001b[38;5;28;43mself\u001b[39;49m\u001b[43m.\u001b[49m\u001b[43mbound\u001b[49m\u001b[43m.\u001b[49m\u001b[43minvoke\u001b[49m\u001b[43m(\u001b[49m\n\u001b[32m   5712\u001b[39m \u001b[43m        \u001b[49m\u001b[38;5;28;43minput\u001b[39;49m\u001b[43m,\u001b[49m\n\u001b[32m   5713\u001b[39m \u001b[43m        \u001b[49m\u001b[38;5;28;43mself\u001b[39;49m\u001b[43m.\u001b[49m\u001b[43m_merge_configs\u001b[49m\u001b[43m(\u001b[49m\u001b[43mconfig\u001b[49m\u001b[43m)\u001b[49m\u001b[43m,\u001b[49m\n\u001b[32m   5714\u001b[39m \u001b[43m        \u001b[49m\u001b[43m*\u001b[49m\u001b[43m*\u001b[49m\u001b[43m{\u001b[49m\u001b[43m*\u001b[49m\u001b[43m*\u001b[49m\u001b[38;5;28;43mself\u001b[39;49m\u001b[43m.\u001b[49m\u001b[43mkwargs\u001b[49m\u001b[43m,\u001b[49m\u001b[43m \u001b[49m\u001b[43m*\u001b[49m\u001b[43m*\u001b[49m\u001b[43mkwargs\u001b[49m\u001b[43m}\u001b[49m\u001b[43m,\u001b[49m\n\u001b[32m   5715\u001b[39m \u001b[43m    \u001b[49m\u001b[43m)\u001b[49m\n",
      "\u001b[36mFile \u001b[39m\u001b[32mc:\\Users\\Acer\\Documents\\dev\\mine-sql\\.venv\\Lib\\site-packages\\langchain_core\\language_models\\chat_models.py:395\u001b[39m, in \u001b[36mBaseChatModel.invoke\u001b[39m\u001b[34m(self, input, config, stop, **kwargs)\u001b[39m\n\u001b[32m    383\u001b[39m \u001b[38;5;129m@override\u001b[39m\n\u001b[32m    384\u001b[39m \u001b[38;5;28;01mdef\u001b[39;00m\u001b[38;5;250m \u001b[39m\u001b[34minvoke\u001b[39m(\n\u001b[32m    385\u001b[39m     \u001b[38;5;28mself\u001b[39m,\n\u001b[32m   (...)\u001b[39m\u001b[32m    390\u001b[39m     **kwargs: Any,\n\u001b[32m    391\u001b[39m ) -> BaseMessage:\n\u001b[32m    392\u001b[39m     config = ensure_config(config)\n\u001b[32m    393\u001b[39m     \u001b[38;5;28;01mreturn\u001b[39;00m cast(\n\u001b[32m    394\u001b[39m         \u001b[33m\"\u001b[39m\u001b[33mChatGeneration\u001b[39m\u001b[33m\"\u001b[39m,\n\u001b[32m--> \u001b[39m\u001b[32m395\u001b[39m         \u001b[38;5;28;43mself\u001b[39;49m\u001b[43m.\u001b[49m\u001b[43mgenerate_prompt\u001b[49m\u001b[43m(\u001b[49m\n\u001b[32m    396\u001b[39m \u001b[43m            \u001b[49m\u001b[43m[\u001b[49m\u001b[38;5;28;43mself\u001b[39;49m\u001b[43m.\u001b[49m\u001b[43m_convert_input\u001b[49m\u001b[43m(\u001b[49m\u001b[38;5;28;43minput\u001b[39;49m\u001b[43m)\u001b[49m\u001b[43m]\u001b[49m\u001b[43m,\u001b[49m\n\u001b[32m    397\u001b[39m \u001b[43m            \u001b[49m\u001b[43mstop\u001b[49m\u001b[43m=\u001b[49m\u001b[43mstop\u001b[49m\u001b[43m,\u001b[49m\n\u001b[32m    398\u001b[39m \u001b[43m            \u001b[49m\u001b[43mcallbacks\u001b[49m\u001b[43m=\u001b[49m\u001b[43mconfig\u001b[49m\u001b[43m.\u001b[49m\u001b[43mget\u001b[49m\u001b[43m(\u001b[49m\u001b[33;43m\"\u001b[39;49m\u001b[33;43mcallbacks\u001b[39;49m\u001b[33;43m\"\u001b[39;49m\u001b[43m)\u001b[49m\u001b[43m,\u001b[49m\n\u001b[32m    399\u001b[39m \u001b[43m            \u001b[49m\u001b[43mtags\u001b[49m\u001b[43m=\u001b[49m\u001b[43mconfig\u001b[49m\u001b[43m.\u001b[49m\u001b[43mget\u001b[49m\u001b[43m(\u001b[49m\u001b[33;43m\"\u001b[39;49m\u001b[33;43mtags\u001b[39;49m\u001b[33;43m\"\u001b[39;49m\u001b[43m)\u001b[49m\u001b[43m,\u001b[49m\n\u001b[32m    400\u001b[39m \u001b[43m            \u001b[49m\u001b[43mmetadata\u001b[49m\u001b[43m=\u001b[49m\u001b[43mconfig\u001b[49m\u001b[43m.\u001b[49m\u001b[43mget\u001b[49m\u001b[43m(\u001b[49m\u001b[33;43m\"\u001b[39;49m\u001b[33;43mmetadata\u001b[39;49m\u001b[33;43m\"\u001b[39;49m\u001b[43m)\u001b[49m\u001b[43m,\u001b[49m\n\u001b[32m    401\u001b[39m \u001b[43m            \u001b[49m\u001b[43mrun_name\u001b[49m\u001b[43m=\u001b[49m\u001b[43mconfig\u001b[49m\u001b[43m.\u001b[49m\u001b[43mget\u001b[49m\u001b[43m(\u001b[49m\u001b[33;43m\"\u001b[39;49m\u001b[33;43mrun_name\u001b[39;49m\u001b[33;43m\"\u001b[39;49m\u001b[43m)\u001b[49m\u001b[43m,\u001b[49m\n\u001b[32m    402\u001b[39m \u001b[43m            \u001b[49m\u001b[43mrun_id\u001b[49m\u001b[43m=\u001b[49m\u001b[43mconfig\u001b[49m\u001b[43m.\u001b[49m\u001b[43mpop\u001b[49m\u001b[43m(\u001b[49m\u001b[33;43m\"\u001b[39;49m\u001b[33;43mrun_id\u001b[39;49m\u001b[33;43m\"\u001b[39;49m\u001b[43m,\u001b[49m\u001b[43m \u001b[49m\u001b[38;5;28;43;01mNone\u001b[39;49;00m\u001b[43m)\u001b[49m\u001b[43m,\u001b[49m\n\u001b[32m    403\u001b[39m \u001b[43m            \u001b[49m\u001b[43m*\u001b[49m\u001b[43m*\u001b[49m\u001b[43mkwargs\u001b[49m\u001b[43m,\u001b[49m\n\u001b[32m    404\u001b[39m \u001b[43m        \u001b[49m\u001b[43m)\u001b[49m.generations[\u001b[32m0\u001b[39m][\u001b[32m0\u001b[39m],\n\u001b[32m    405\u001b[39m     ).message\n",
      "\u001b[36mFile \u001b[39m\u001b[32mc:\\Users\\Acer\\Documents\\dev\\mine-sql\\.venv\\Lib\\site-packages\\langchain_core\\language_models\\chat_models.py:1025\u001b[39m, in \u001b[36mBaseChatModel.generate_prompt\u001b[39m\u001b[34m(self, prompts, stop, callbacks, **kwargs)\u001b[39m\n\u001b[32m   1016\u001b[39m \u001b[38;5;129m@override\u001b[39m\n\u001b[32m   1017\u001b[39m \u001b[38;5;28;01mdef\u001b[39;00m\u001b[38;5;250m \u001b[39m\u001b[34mgenerate_prompt\u001b[39m(\n\u001b[32m   1018\u001b[39m     \u001b[38;5;28mself\u001b[39m,\n\u001b[32m   (...)\u001b[39m\u001b[32m   1022\u001b[39m     **kwargs: Any,\n\u001b[32m   1023\u001b[39m ) -> LLMResult:\n\u001b[32m   1024\u001b[39m     prompt_messages = [p.to_messages() \u001b[38;5;28;01mfor\u001b[39;00m p \u001b[38;5;129;01min\u001b[39;00m prompts]\n\u001b[32m-> \u001b[39m\u001b[32m1025\u001b[39m     \u001b[38;5;28;01mreturn\u001b[39;00m \u001b[38;5;28;43mself\u001b[39;49m\u001b[43m.\u001b[49m\u001b[43mgenerate\u001b[49m\u001b[43m(\u001b[49m\u001b[43mprompt_messages\u001b[49m\u001b[43m,\u001b[49m\u001b[43m \u001b[49m\u001b[43mstop\u001b[49m\u001b[43m=\u001b[49m\u001b[43mstop\u001b[49m\u001b[43m,\u001b[49m\u001b[43m \u001b[49m\u001b[43mcallbacks\u001b[49m\u001b[43m=\u001b[49m\u001b[43mcallbacks\u001b[49m\u001b[43m,\u001b[49m\u001b[43m \u001b[49m\u001b[43m*\u001b[49m\u001b[43m*\u001b[49m\u001b[43mkwargs\u001b[49m\u001b[43m)\u001b[49m\n",
      "\u001b[36mFile \u001b[39m\u001b[32mc:\\Users\\Acer\\Documents\\dev\\mine-sql\\.venv\\Lib\\site-packages\\langchain_core\\language_models\\chat_models.py:842\u001b[39m, in \u001b[36mBaseChatModel.generate\u001b[39m\u001b[34m(self, messages, stop, callbacks, tags, metadata, run_name, run_id, **kwargs)\u001b[39m\n\u001b[32m    839\u001b[39m \u001b[38;5;28;01mfor\u001b[39;00m i, m \u001b[38;5;129;01min\u001b[39;00m \u001b[38;5;28menumerate\u001b[39m(input_messages):\n\u001b[32m    840\u001b[39m     \u001b[38;5;28;01mtry\u001b[39;00m:\n\u001b[32m    841\u001b[39m         results.append(\n\u001b[32m--> \u001b[39m\u001b[32m842\u001b[39m             \u001b[38;5;28;43mself\u001b[39;49m\u001b[43m.\u001b[49m\u001b[43m_generate_with_cache\u001b[49m\u001b[43m(\u001b[49m\n\u001b[32m    843\u001b[39m \u001b[43m                \u001b[49m\u001b[43mm\u001b[49m\u001b[43m,\u001b[49m\n\u001b[32m    844\u001b[39m \u001b[43m                \u001b[49m\u001b[43mstop\u001b[49m\u001b[43m=\u001b[49m\u001b[43mstop\u001b[49m\u001b[43m,\u001b[49m\n\u001b[32m    845\u001b[39m \u001b[43m                \u001b[49m\u001b[43mrun_manager\u001b[49m\u001b[43m=\u001b[49m\u001b[43mrun_managers\u001b[49m\u001b[43m[\u001b[49m\u001b[43mi\u001b[49m\u001b[43m]\u001b[49m\u001b[43m \u001b[49m\u001b[38;5;28;43;01mif\u001b[39;49;00m\u001b[43m \u001b[49m\u001b[43mrun_managers\u001b[49m\u001b[43m \u001b[49m\u001b[38;5;28;43;01melse\u001b[39;49;00m\u001b[43m \u001b[49m\u001b[38;5;28;43;01mNone\u001b[39;49;00m\u001b[43m,\u001b[49m\n\u001b[32m    846\u001b[39m \u001b[43m                \u001b[49m\u001b[43m*\u001b[49m\u001b[43m*\u001b[49m\u001b[43mkwargs\u001b[49m\u001b[43m,\u001b[49m\n\u001b[32m    847\u001b[39m \u001b[43m            \u001b[49m\u001b[43m)\u001b[49m\n\u001b[32m    848\u001b[39m         )\n\u001b[32m    849\u001b[39m     \u001b[38;5;28;01mexcept\u001b[39;00m \u001b[38;5;167;01mBaseException\u001b[39;00m \u001b[38;5;28;01mas\u001b[39;00m e:\n\u001b[32m    850\u001b[39m         \u001b[38;5;28;01mif\u001b[39;00m run_managers:\n",
      "\u001b[36mFile \u001b[39m\u001b[32mc:\\Users\\Acer\\Documents\\dev\\mine-sql\\.venv\\Lib\\site-packages\\langchain_core\\language_models\\chat_models.py:1091\u001b[39m, in \u001b[36mBaseChatModel._generate_with_cache\u001b[39m\u001b[34m(self, messages, stop, run_manager, **kwargs)\u001b[39m\n\u001b[32m   1089\u001b[39m     result = generate_from_stream(\u001b[38;5;28miter\u001b[39m(chunks))\n\u001b[32m   1090\u001b[39m \u001b[38;5;28;01melif\u001b[39;00m inspect.signature(\u001b[38;5;28mself\u001b[39m._generate).parameters.get(\u001b[33m\"\u001b[39m\u001b[33mrun_manager\u001b[39m\u001b[33m\"\u001b[39m):\n\u001b[32m-> \u001b[39m\u001b[32m1091\u001b[39m     result = \u001b[38;5;28;43mself\u001b[39;49m\u001b[43m.\u001b[49m\u001b[43m_generate\u001b[49m\u001b[43m(\u001b[49m\n\u001b[32m   1092\u001b[39m \u001b[43m        \u001b[49m\u001b[43mmessages\u001b[49m\u001b[43m,\u001b[49m\u001b[43m \u001b[49m\u001b[43mstop\u001b[49m\u001b[43m=\u001b[49m\u001b[43mstop\u001b[49m\u001b[43m,\u001b[49m\u001b[43m \u001b[49m\u001b[43mrun_manager\u001b[49m\u001b[43m=\u001b[49m\u001b[43mrun_manager\u001b[49m\u001b[43m,\u001b[49m\u001b[43m \u001b[49m\u001b[43m*\u001b[49m\u001b[43m*\u001b[49m\u001b[43mkwargs\u001b[49m\n\u001b[32m   1093\u001b[39m \u001b[43m    \u001b[49m\u001b[43m)\u001b[49m\n\u001b[32m   1094\u001b[39m \u001b[38;5;28;01melse\u001b[39;00m:\n\u001b[32m   1095\u001b[39m     result = \u001b[38;5;28mself\u001b[39m._generate(messages, stop=stop, **kwargs)\n",
      "\u001b[36mFile \u001b[39m\u001b[32mc:\\Users\\Acer\\Documents\\dev\\mine-sql\\.venv\\Lib\\site-packages\\langchain_ollama\\chat_models.py:909\u001b[39m, in \u001b[36mChatOllama._generate\u001b[39m\u001b[34m(self, messages, stop, run_manager, **kwargs)\u001b[39m\n\u001b[32m    902\u001b[39m \u001b[38;5;28;01mdef\u001b[39;00m\u001b[38;5;250m \u001b[39m\u001b[34m_generate\u001b[39m(\n\u001b[32m    903\u001b[39m     \u001b[38;5;28mself\u001b[39m,\n\u001b[32m    904\u001b[39m     messages: \u001b[38;5;28mlist\u001b[39m[BaseMessage],\n\u001b[32m   (...)\u001b[39m\u001b[32m    907\u001b[39m     **kwargs: Any,\n\u001b[32m    908\u001b[39m ) -> ChatResult:\n\u001b[32m--> \u001b[39m\u001b[32m909\u001b[39m     final_chunk = \u001b[38;5;28;43mself\u001b[39;49m\u001b[43m.\u001b[49m\u001b[43m_chat_stream_with_aggregation\u001b[49m\u001b[43m(\u001b[49m\n\u001b[32m    910\u001b[39m \u001b[43m        \u001b[49m\u001b[43mmessages\u001b[49m\u001b[43m,\u001b[49m\u001b[43m \u001b[49m\u001b[43mstop\u001b[49m\u001b[43m,\u001b[49m\u001b[43m \u001b[49m\u001b[43mrun_manager\u001b[49m\u001b[43m,\u001b[49m\u001b[43m \u001b[49m\u001b[43mverbose\u001b[49m\u001b[43m=\u001b[49m\u001b[38;5;28;43mself\u001b[39;49m\u001b[43m.\u001b[49m\u001b[43mverbose\u001b[49m\u001b[43m,\u001b[49m\u001b[43m \u001b[49m\u001b[43m*\u001b[49m\u001b[43m*\u001b[49m\u001b[43mkwargs\u001b[49m\n\u001b[32m    911\u001b[39m \u001b[43m    \u001b[49m\u001b[43m)\u001b[49m\n\u001b[32m    912\u001b[39m     generation_info = final_chunk.generation_info\n\u001b[32m    913\u001b[39m     chat_generation = ChatGeneration(\n\u001b[32m    914\u001b[39m         message=AIMessage(\n\u001b[32m    915\u001b[39m             content=final_chunk.text,\n\u001b[32m   (...)\u001b[39m\u001b[32m    922\u001b[39m         generation_info=generation_info,\n\u001b[32m    923\u001b[39m     )\n",
      "\u001b[36mFile \u001b[39m\u001b[32mc:\\Users\\Acer\\Documents\\dev\\mine-sql\\.venv\\Lib\\site-packages\\langchain_ollama\\chat_models.py:844\u001b[39m, in \u001b[36mChatOllama._chat_stream_with_aggregation\u001b[39m\u001b[34m(self, messages, stop, run_manager, verbose, **kwargs)\u001b[39m\n\u001b[32m    835\u001b[39m \u001b[38;5;28;01mdef\u001b[39;00m\u001b[38;5;250m \u001b[39m\u001b[34m_chat_stream_with_aggregation\u001b[39m(\n\u001b[32m    836\u001b[39m     \u001b[38;5;28mself\u001b[39m,\n\u001b[32m    837\u001b[39m     messages: \u001b[38;5;28mlist\u001b[39m[BaseMessage],\n\u001b[32m   (...)\u001b[39m\u001b[32m    841\u001b[39m     **kwargs: Any,\n\u001b[32m    842\u001b[39m ) -> ChatGenerationChunk:\n\u001b[32m    843\u001b[39m     final_chunk = \u001b[38;5;28;01mNone\u001b[39;00m\n\u001b[32m--> \u001b[39m\u001b[32m844\u001b[39m \u001b[43m    \u001b[49m\u001b[38;5;28;43;01mfor\u001b[39;49;00m\u001b[43m \u001b[49m\u001b[43mchunk\u001b[49m\u001b[43m \u001b[49m\u001b[38;5;129;43;01min\u001b[39;49;00m\u001b[43m \u001b[49m\u001b[38;5;28;43mself\u001b[39;49m\u001b[43m.\u001b[49m\u001b[43m_iterate_over_stream\u001b[49m\u001b[43m(\u001b[49m\u001b[43mmessages\u001b[49m\u001b[43m,\u001b[49m\u001b[43m \u001b[49m\u001b[43mstop\u001b[49m\u001b[43m,\u001b[49m\u001b[43m \u001b[49m\u001b[43m*\u001b[49m\u001b[43m*\u001b[49m\u001b[43mkwargs\u001b[49m\u001b[43m)\u001b[49m\u001b[43m:\u001b[49m\n\u001b[32m    845\u001b[39m \u001b[43m        \u001b[49m\u001b[38;5;28;43;01mif\u001b[39;49;00m\u001b[43m \u001b[49m\u001b[43mfinal_chunk\u001b[49m\u001b[43m \u001b[49m\u001b[38;5;129;43;01mis\u001b[39;49;00m\u001b[43m \u001b[49m\u001b[38;5;28;43;01mNone\u001b[39;49;00m\u001b[43m:\u001b[49m\n\u001b[32m    846\u001b[39m \u001b[43m            \u001b[49m\u001b[43mfinal_chunk\u001b[49m\u001b[43m \u001b[49m\u001b[43m=\u001b[49m\u001b[43m \u001b[49m\u001b[43mchunk\u001b[49m\n",
      "\u001b[36mFile \u001b[39m\u001b[32mc:\\Users\\Acer\\Documents\\dev\\mine-sql\\.venv\\Lib\\site-packages\\langchain_ollama\\chat_models.py:933\u001b[39m, in \u001b[36mChatOllama._iterate_over_stream\u001b[39m\u001b[34m(self, messages, stop, **kwargs)\u001b[39m\n\u001b[32m    926\u001b[39m \u001b[38;5;28;01mdef\u001b[39;00m\u001b[38;5;250m \u001b[39m\u001b[34m_iterate_over_stream\u001b[39m(\n\u001b[32m    927\u001b[39m     \u001b[38;5;28mself\u001b[39m,\n\u001b[32m    928\u001b[39m     messages: \u001b[38;5;28mlist\u001b[39m[BaseMessage],\n\u001b[32m    929\u001b[39m     stop: Optional[\u001b[38;5;28mlist\u001b[39m[\u001b[38;5;28mstr\u001b[39m]] = \u001b[38;5;28;01mNone\u001b[39;00m,\n\u001b[32m    930\u001b[39m     **kwargs: Any,\n\u001b[32m    931\u001b[39m ) -> Iterator[ChatGenerationChunk]:\n\u001b[32m    932\u001b[39m     reasoning = kwargs.get(\u001b[33m\"\u001b[39m\u001b[33mreasoning\u001b[39m\u001b[33m\"\u001b[39m, \u001b[38;5;28mself\u001b[39m.reasoning)\n\u001b[32m--> \u001b[39m\u001b[32m933\u001b[39m \u001b[43m    \u001b[49m\u001b[38;5;28;43;01mfor\u001b[39;49;00m\u001b[43m \u001b[49m\u001b[43mstream_resp\u001b[49m\u001b[43m \u001b[49m\u001b[38;5;129;43;01min\u001b[39;49;00m\u001b[43m \u001b[49m\u001b[38;5;28;43mself\u001b[39;49m\u001b[43m.\u001b[49m\u001b[43m_create_chat_stream\u001b[49m\u001b[43m(\u001b[49m\u001b[43mmessages\u001b[49m\u001b[43m,\u001b[49m\u001b[43m \u001b[49m\u001b[43mstop\u001b[49m\u001b[43m,\u001b[49m\u001b[43m \u001b[49m\u001b[43m*\u001b[49m\u001b[43m*\u001b[49m\u001b[43mkwargs\u001b[49m\u001b[43m)\u001b[49m\u001b[43m:\u001b[49m\n\u001b[32m    934\u001b[39m \u001b[43m        \u001b[49m\u001b[38;5;28;43;01mif\u001b[39;49;00m\u001b[43m \u001b[49m\u001b[38;5;129;43;01mnot\u001b[39;49;00m\u001b[43m \u001b[49m\u001b[38;5;28;43misinstance\u001b[39;49m\u001b[43m(\u001b[49m\u001b[43mstream_resp\u001b[49m\u001b[43m,\u001b[49m\u001b[43m \u001b[49m\u001b[38;5;28;43mstr\u001b[39;49m\u001b[43m)\u001b[49m\u001b[43m:\u001b[49m\n\u001b[32m    935\u001b[39m \u001b[43m            \u001b[49m\u001b[43mcontent\u001b[49m\u001b[43m \u001b[49m\u001b[43m=\u001b[49m\u001b[43m \u001b[49m\u001b[43m(\u001b[49m\n\u001b[32m    936\u001b[39m \u001b[43m                \u001b[49m\u001b[43mstream_resp\u001b[49m\u001b[43m[\u001b[49m\u001b[33;43m\"\u001b[39;49m\u001b[33;43mmessage\u001b[39;49m\u001b[33;43m\"\u001b[39;49m\u001b[43m]\u001b[49m\u001b[43m[\u001b[49m\u001b[33;43m\"\u001b[39;49m\u001b[33;43mcontent\u001b[39;49m\u001b[33;43m\"\u001b[39;49m\u001b[43m]\u001b[49m\n\u001b[32m    937\u001b[39m \u001b[43m                \u001b[49m\u001b[38;5;28;43;01mif\u001b[39;49;00m\u001b[43m \u001b[49m\u001b[33;43m\"\u001b[39;49m\u001b[33;43mmessage\u001b[39;49m\u001b[33;43m\"\u001b[39;49m\u001b[43m \u001b[49m\u001b[38;5;129;43;01min\u001b[39;49;00m\u001b[43m \u001b[49m\u001b[43mstream_resp\u001b[49m\u001b[43m \u001b[49m\u001b[38;5;129;43;01mand\u001b[39;49;00m\u001b[43m \u001b[49m\u001b[33;43m\"\u001b[39;49m\u001b[33;43mcontent\u001b[39;49m\u001b[33;43m\"\u001b[39;49m\u001b[43m \u001b[49m\u001b[38;5;129;43;01min\u001b[39;49;00m\u001b[43m \u001b[49m\u001b[43mstream_resp\u001b[49m\u001b[43m[\u001b[49m\u001b[33;43m\"\u001b[39;49m\u001b[33;43mmessage\u001b[39;49m\u001b[33;43m\"\u001b[39;49m\u001b[43m]\u001b[49m\n\u001b[32m    938\u001b[39m \u001b[43m                \u001b[49m\u001b[38;5;28;43;01melse\u001b[39;49;00m\u001b[43m \u001b[49m\u001b[33;43m\"\u001b[39;49m\u001b[33;43m\"\u001b[39;49m\n\u001b[32m    939\u001b[39m \u001b[43m            \u001b[49m\u001b[43m)\u001b[49m\n",
      "\u001b[36mFile \u001b[39m\u001b[32mc:\\Users\\Acer\\Documents\\dev\\mine-sql\\.venv\\Lib\\site-packages\\langchain_ollama\\chat_models.py:831\u001b[39m, in \u001b[36mChatOllama._create_chat_stream\u001b[39m\u001b[34m(self, messages, stop, **kwargs)\u001b[39m\n\u001b[32m    829\u001b[39m \u001b[38;5;28;01mif\u001b[39;00m chat_params[\u001b[33m\"\u001b[39m\u001b[33mstream\u001b[39m\u001b[33m\"\u001b[39m]:\n\u001b[32m    830\u001b[39m     \u001b[38;5;28;01mif\u001b[39;00m \u001b[38;5;28mself\u001b[39m._client:\n\u001b[32m--> \u001b[39m\u001b[32m831\u001b[39m         \u001b[38;5;28;01myield from\u001b[39;00m \u001b[38;5;28mself\u001b[39m._client.chat(**chat_params)\n\u001b[32m    832\u001b[39m \u001b[38;5;28;01melif\u001b[39;00m \u001b[38;5;28mself\u001b[39m._client:\n\u001b[32m    833\u001b[39m     \u001b[38;5;28;01myield\u001b[39;00m \u001b[38;5;28mself\u001b[39m._client.chat(**chat_params)\n",
      "\u001b[36mFile \u001b[39m\u001b[32mc:\\Users\\Acer\\Documents\\dev\\mine-sql\\.venv\\Lib\\site-packages\\ollama\\_client.py:179\u001b[39m, in \u001b[36mClient._request.<locals>.inner\u001b[39m\u001b[34m()\u001b[39m\n\u001b[32m    177\u001b[39m \u001b[38;5;28;01mexcept\u001b[39;00m httpx.HTTPStatusError \u001b[38;5;28;01mas\u001b[39;00m e:\n\u001b[32m    178\u001b[39m   e.response.read()\n\u001b[32m--> \u001b[39m\u001b[32m179\u001b[39m   \u001b[38;5;28;01mraise\u001b[39;00m ResponseError(e.response.text, e.response.status_code) \u001b[38;5;28;01mfrom\u001b[39;00m\u001b[38;5;250m \u001b[39m\u001b[38;5;28;01mNone\u001b[39;00m\n\u001b[32m    181\u001b[39m \u001b[38;5;28;01mfor\u001b[39;00m line \u001b[38;5;129;01min\u001b[39;00m r.iter_lines():\n\u001b[32m    182\u001b[39m   part = json.loads(line)\n",
      "\u001b[31mResponseError\u001b[39m: registry.ollama.ai/library/gemma3:27b does not support tools (status code: 400)",
      "During task with name 'ReAct_node' and id 'cb2a22ad-5563-991d-ed2f-d8a2901f1d31'"
     ]
    }
   ],
   "source": [
    "n = 0\n",
    "for step in graph.stream(initial_state, stream_mode='values'):\n",
    "    messages = step.get(\"messages\", None)\n",
    "    if n == 0:\n",
    "        messages[0].pretty_print()\n",
    "        #messages[1].pretty_print()\n",
    "        n += 1\n",
    "    else:\n",
    "        messages[-1].pretty_print()"
   ]
  },
  {
   "cell_type": "code",
   "execution_count": null,
   "id": "98027c37",
   "metadata": {},
   "outputs": [],
   "source": [
    "prompt_template = hub.pull(\"langchain-ai/sql-agent-system-prompt\")\n",
    "system_prompt = prompt_template.format(dialect=\"PostgreSQL\", top_k=5)\n",
    "human_prompt = \"From which supplier(s) does Northwinds carry the fewest products?\"\n",
    "messages = [SystemMessage(content=system_prompt), HumanMessage(content=human_prompt)]\n",
    "initial_state = {\"messages\":messages}"
   ]
  },
  {
   "cell_type": "code",
   "execution_count": null,
   "id": "2e1f1a28",
   "metadata": {},
   "outputs": [],
   "source": [
    "n = 0\n",
    "for step in graph.stream(initial_state, stream_mode='values'):\n",
    "    messages = step.get(\"messages\", None)\n",
    "    if n == 0:\n",
    "        messages[0].pretty_print()\n",
    "        messages[1].pretty_print()\n",
    "        n += 1\n",
    "    else:\n",
    "        messages[-1].pretty_print()"
   ]
  },
  {
   "cell_type": "code",
   "execution_count": null,
   "id": "76dc8696",
   "metadata": {},
   "outputs": [],
   "source": []
  },
  {
   "cell_type": "code",
   "execution_count": null,
   "id": "1a4c6993",
   "metadata": {},
   "outputs": [],
   "source": []
  },
  {
   "cell_type": "code",
   "execution_count": null,
   "id": "95f254ff",
   "metadata": {},
   "outputs": [],
   "source": [
    "prompt_template = hub.pull(\"langchain-ai/sql-agent-system-prompt\")\n",
    "system_prompt = prompt_template.format(dialect=\"PostgreSQL\", top_k=5)\n",
    "human_prompt = \"Which Northwinds employees (just show their name and employeeid) had over 100 orders\"\n",
    "messages = [SystemMessage(content=system_prompt), HumanMessage(content=human_prompt)]\n",
    "initial_state = {\"messages\":messages}"
   ]
  },
  {
   "cell_type": "code",
   "execution_count": null,
   "id": "64dc2ca2",
   "metadata": {},
   "outputs": [],
   "source": [
    "n = 0\n",
    "for step in graph.stream(initial_state, stream_mode='values'):\n",
    "    messages = step.get(\"messages\", None)\n",
    "    if n == 0:\n",
    "        messages[0].pretty_print()\n",
    "        messages[1].pretty_print()\n",
    "        n += 1\n",
    "    else:\n",
    "        messages[-1].pretty_print()"
   ]
  }
 ],
 "metadata": {
  "kernelspec": {
   "display_name": ".venv",
   "language": "python",
   "name": "python3"
  },
  "language_info": {
   "codemirror_mode": {
    "name": "ipython",
    "version": 3
   },
   "file_extension": ".py",
   "mimetype": "text/x-python",
   "name": "python",
   "nbconvert_exporter": "python",
   "pygments_lexer": "ipython3",
   "version": "3.11.9"
  }
 },
 "nbformat": 4,
 "nbformat_minor": 5
}
